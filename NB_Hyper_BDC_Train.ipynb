{
 "cells": [
  {
   "cell_type": "markdown",
   "metadata": {
    "id": "ubyCdWlseZdO"
   },
   "source": [
    "**1. IMPORT PACKAGE**"
   ]
  },
  {
   "cell_type": "code",
   "execution_count": 1,
   "metadata": {
    "colab": {
     "base_uri": "https://localhost:8080/",
     "height": 17
    },
    "id": "KiRWbyQgP3x_",
    "outputId": "a591c965-d930-4b55-8d66-64ea137ead92"
   },
   "outputs": [
    {
     "data": {
      "text/html": [
       "        <script type=\"text/javascript\">\n",
       "        window.PlotlyConfig = {MathJaxConfig: 'local'};\n",
       "        if (window.MathJax) {MathJax.Hub.Config({SVG: {font: \"STIX-Web\"}});}\n",
       "        if (typeof require !== 'undefined') {\n",
       "        require.undef(\"plotly\");\n",
       "        requirejs.config({\n",
       "            paths: {\n",
       "                'plotly': ['https://cdn.plot.ly/plotly-latest.min']\n",
       "            }\n",
       "        });\n",
       "        require(['plotly'], function(Plotly) {\n",
       "            window._Plotly = Plotly;\n",
       "        });\n",
       "        }\n",
       "        </script>\n",
       "        "
      ]
     },
     "metadata": {
      "tags": []
     },
     "output_type": "display_data"
    }
   ],
   "source": [
    "import pandas as pd\n",
    "import numpy as np\n",
    "import tweepy\n",
    "import matplotlib.pyplot as plt\n",
    "import networkx as nx\n",
    "from networkx.readwrite import json_graph\n",
    "from plotly.offline import download_plotlyjs, init_notebook_mode,  iplot, plot\n",
    "init_notebook_mode(connected=True)\n",
    "\n",
    "# Machine Learning imports\n",
    "import nltk\n",
    "from sklearn.pipeline import Pipeline\n",
    "from sklearn.model_selection import train_test_split\n",
    "from sklearn.metrics import classification_report, confusion_matrix, accuracy_score\n",
    "from sklearn.naive_bayes import MultinomialNB\n",
    "from sklearn.model_selection import KFold, cross_val_score\n",
    "from sklearn.ensemble import RandomForestClassifier\n",
    "from sklearn.feature_extraction.text import CountVectorizer\n",
    "from sklearn.feature_extraction.text import TfidfTransformer\n",
    "from sklearn.model_selection import GridSearchCV\n",
    "import joblib\n",
    "from nltk.corpus import stopwords\n",
    "from nltk.tokenize import TweetTokenizer\n",
    "\n",
    "import string\n",
    "import re\n",
    "from string import punctuation\n",
    "from collections import Counter"
   ]
  },
  {
   "cell_type": "code",
   "execution_count": 4,
   "metadata": {
    "colab": {
     "base_uri": "https://localhost:8080/",
     "height": 34
    },
    "id": "z9bSanx59G8K",
    "outputId": "23ff13e3-c561-4d75-8260-13e6c04bd523"
   },
   "outputs": [
    {
     "name": "stdout",
     "output_type": "stream",
     "text": [
      "Drive already mounted at /content/drive; to attempt to forcibly remount, call drive.mount(\"/content/drive\", force_remount=True).\n"
     ]
    }
   ],
   "source": [
    "from google.colab import drive\n",
    "drive.mount('/content/drive')"
   ]
  },
  {
   "cell_type": "markdown",
   "metadata": {
    "id": "GY0Iqxv4enIK"
   },
   "source": [
    "**2. IMPORT DATA**"
   ]
  },
  {
   "cell_type": "code",
   "execution_count": 5,
   "metadata": {
    "colab": {
     "base_uri": "https://localhost:8080/",
     "height": 419
    },
    "id": "cKTDHr2xQRi3",
    "outputId": "d9cd3078-900b-480b-b704-80e230efb9bc"
   },
   "outputs": [
    {
     "data": {
      "text/html": [
       "<div>\n",
       "<style scoped>\n",
       "    .dataframe tbody tr th:only-of-type {\n",
       "        vertical-align: middle;\n",
       "    }\n",
       "\n",
       "    .dataframe tbody tr th {\n",
       "        vertical-align: top;\n",
       "    }\n",
       "\n",
       "    .dataframe thead th {\n",
       "        text-align: right;\n",
       "    }\n",
       "</style>\n",
       "<table border=\"1\" class=\"dataframe\">\n",
       "  <thead>\n",
       "    <tr style=\"text-align: right;\">\n",
       "      <th></th>\n",
       "      <th>ID</th>\n",
       "      <th>label</th>\n",
       "      <th>tanggal</th>\n",
       "      <th>judul</th>\n",
       "      <th>narasi</th>\n",
       "      <th>nama file gambar</th>\n",
       "    </tr>\n",
       "  </thead>\n",
       "  <tbody>\n",
       "    <tr>\n",
       "      <th>0</th>\n",
       "      <td>71</td>\n",
       "      <td>1</td>\n",
       "      <td>2020-08-17 00:00:00</td>\n",
       "      <td>Pemakaian Masker Menyebabkan Penyakit Legionna...</td>\n",
       "      <td>A caller to a radio talk show recently shared ...</td>\n",
       "      <td>71.jpg</td>\n",
       "    </tr>\n",
       "    <tr>\n",
       "      <th>1</th>\n",
       "      <td>461</td>\n",
       "      <td>1</td>\n",
       "      <td>2020-07-17 00:00:00</td>\n",
       "      <td>Instruksi Gubernur Jateng tentang penilangan  ...</td>\n",
       "      <td>Yth.Seluruh Anggota Grup Sesuai Instruksi Gube...</td>\n",
       "      <td>461.png</td>\n",
       "    </tr>\n",
       "    <tr>\n",
       "      <th>2</th>\n",
       "      <td>495</td>\n",
       "      <td>1</td>\n",
       "      <td>2020-07-13 00:00:00</td>\n",
       "      <td>Foto Jim Rohn: Jokowi adalah presiden terbaik ...</td>\n",
       "      <td>Jokowi adalah presiden terbaik dlm sejarah ban...</td>\n",
       "      <td>495.png</td>\n",
       "    </tr>\n",
       "    <tr>\n",
       "      <th>3</th>\n",
       "      <td>550</td>\n",
       "      <td>1</td>\n",
       "      <td>2020-07-08 00:00:00</td>\n",
       "      <td>ini bukan politik, tapi kenyataan Pak Jokowi b...</td>\n",
       "      <td>Maaf Mas2 dan Mbak2, ini bukan politik, tapi k...</td>\n",
       "      <td>550.png</td>\n",
       "    </tr>\n",
       "    <tr>\n",
       "      <th>4</th>\n",
       "      <td>681</td>\n",
       "      <td>1</td>\n",
       "      <td>2020-06-24 00:00:00</td>\n",
       "      <td>Foto Kadrun kalo lihat foto ini panas dingin</td>\n",
       "      <td>Kadrun kalo lihat foto ini panas dingin . .</td>\n",
       "      <td>681.jpg</td>\n",
       "    </tr>\n",
       "    <tr>\n",
       "      <th>...</th>\n",
       "      <td>...</td>\n",
       "      <td>...</td>\n",
       "      <td>...</td>\n",
       "      <td>...</td>\n",
       "      <td>...</td>\n",
       "      <td>...</td>\n",
       "    </tr>\n",
       "    <tr>\n",
       "      <th>4226</th>\n",
       "      <td>999287</td>\n",
       "      <td>1</td>\n",
       "      <td>2016-01-17 00:00:00</td>\n",
       "      <td>: KPK Dilarang Membawa Brimob Bersenjata Masuk...</td>\n",
       "      <td>KPK Dilarang Membawa Brimob Bersenjata Masuk G...</td>\n",
       "      <td>999287.jpg</td>\n",
       "    </tr>\n",
       "    <tr>\n",
       "      <th>4227</th>\n",
       "      <td>999472</td>\n",
       "      <td>1</td>\n",
       "      <td>2020-08-20 00:00:00</td>\n",
       "      <td>Foto pejabat keuangan dibawah palu arit</td>\n",
       "      <td>Jangan mau dialihkan kepada pakaian adat… FOKU...</td>\n",
       "      <td>999472.png</td>\n",
       "    </tr>\n",
       "    <tr>\n",
       "      <th>4228</th>\n",
       "      <td>999501</td>\n",
       "      <td>1</td>\n",
       "      <td>2020-08-17 00:00:00</td>\n",
       "      <td>Gambar Denny Siregar Musuh Warga Tasikmalaya d...</td>\n",
       "      <td>Akhir nya bisa terkenal bang denny</td>\n",
       "      <td>999501.jpg</td>\n",
       "    </tr>\n",
       "    <tr>\n",
       "      <th>4229</th>\n",
       "      <td>999848</td>\n",
       "      <td>1</td>\n",
       "      <td>2020-07-21 00:00:00</td>\n",
       "      <td>Kaesang: Bapak Saya dengan Kesederhaan Bisa Ni...</td>\n",
       "      <td>Bapak Saya dengan Kesederhaan Bisa Nipu Rakyat...</td>\n",
       "      <td>999848.jpg</td>\n",
       "    </tr>\n",
       "    <tr>\n",
       "      <th>4230</th>\n",
       "      <td>999860</td>\n",
       "      <td>1</td>\n",
       "      <td>2020-07-20 00:00:00</td>\n",
       "      <td>Laser dari termometer gun akan merusak struktu...</td>\n",
       "      <td>IN: Saya nolak. Kalau Anda mau periksa, bukan ...</td>\n",
       "      <td>999860.png</td>\n",
       "    </tr>\n",
       "  </tbody>\n",
       "</table>\n",
       "<p>4231 rows × 6 columns</p>\n",
       "</div>"
      ],
      "text/plain": [
       "          ID  ...  nama file gambar\n",
       "0         71  ...            71.jpg\n",
       "1        461  ...           461.png\n",
       "2        495  ...           495.png\n",
       "3        550  ...           550.png\n",
       "4        681  ...           681.jpg\n",
       "...      ...  ...               ...\n",
       "4226  999287  ...        999287.jpg\n",
       "4227  999472  ...        999472.png\n",
       "4228  999501  ...        999501.jpg\n",
       "4229  999848  ...        999848.jpg\n",
       "4230  999860  ...        999860.png\n",
       "\n",
       "[4231 rows x 6 columns]"
      ]
     },
     "execution_count": 5,
     "metadata": {
      "tags": []
     },
     "output_type": "execute_result"
    }
   ],
   "source": [
    "df= pd.read_excel('/content/drive/My Drive/Data Latih BDC (1).xlsx')\n",
    "df"
   ]
  },
  {
   "cell_type": "markdown",
   "metadata": {
    "id": "ciEyEvIWe6hb"
   },
   "source": [
    "**3. Preprocessing Data**"
   ]
  },
  {
   "cell_type": "code",
   "execution_count": 6,
   "metadata": {
    "id": "LL2IvAElTVAr"
   },
   "outputs": [],
   "source": [
    "columns = ['tanggal' ,'nama file gambar']\n",
    "df.drop(columns, inplace=True, axis=1)"
   ]
  },
  {
   "cell_type": "code",
   "execution_count": 7,
   "metadata": {
    "colab": {
     "base_uri": "https://localhost:8080/",
     "height": 419
    },
    "id": "u5GYJTsY8UNF",
    "outputId": "0fca6eb1-2fa3-49c3-9d19-01c446e30ce6"
   },
   "outputs": [
    {
     "data": {
      "text/html": [
       "<div>\n",
       "<style scoped>\n",
       "    .dataframe tbody tr th:only-of-type {\n",
       "        vertical-align: middle;\n",
       "    }\n",
       "\n",
       "    .dataframe tbody tr th {\n",
       "        vertical-align: top;\n",
       "    }\n",
       "\n",
       "    .dataframe thead th {\n",
       "        text-align: right;\n",
       "    }\n",
       "</style>\n",
       "<table border=\"1\" class=\"dataframe\">\n",
       "  <thead>\n",
       "    <tr style=\"text-align: right;\">\n",
       "      <th></th>\n",
       "      <th>ID</th>\n",
       "      <th>label</th>\n",
       "      <th>judul</th>\n",
       "      <th>narasi</th>\n",
       "    </tr>\n",
       "  </thead>\n",
       "  <tbody>\n",
       "    <tr>\n",
       "      <th>0</th>\n",
       "      <td>71</td>\n",
       "      <td>1</td>\n",
       "      <td>Pemakaian Masker Menyebabkan Penyakit Legionna...</td>\n",
       "      <td>A caller to a radio talk show recently shared ...</td>\n",
       "    </tr>\n",
       "    <tr>\n",
       "      <th>1</th>\n",
       "      <td>461</td>\n",
       "      <td>1</td>\n",
       "      <td>Instruksi Gubernur Jateng tentang penilangan  ...</td>\n",
       "      <td>Yth.Seluruh Anggota Grup Sesuai Instruksi Gube...</td>\n",
       "    </tr>\n",
       "    <tr>\n",
       "      <th>2</th>\n",
       "      <td>495</td>\n",
       "      <td>1</td>\n",
       "      <td>Foto Jim Rohn: Jokowi adalah presiden terbaik ...</td>\n",
       "      <td>Jokowi adalah presiden terbaik dlm sejarah ban...</td>\n",
       "    </tr>\n",
       "    <tr>\n",
       "      <th>3</th>\n",
       "      <td>550</td>\n",
       "      <td>1</td>\n",
       "      <td>ini bukan politik, tapi kenyataan Pak Jokowi b...</td>\n",
       "      <td>Maaf Mas2 dan Mbak2, ini bukan politik, tapi k...</td>\n",
       "    </tr>\n",
       "    <tr>\n",
       "      <th>4</th>\n",
       "      <td>681</td>\n",
       "      <td>1</td>\n",
       "      <td>Foto Kadrun kalo lihat foto ini panas dingin</td>\n",
       "      <td>Kadrun kalo lihat foto ini panas dingin . .</td>\n",
       "    </tr>\n",
       "    <tr>\n",
       "      <th>...</th>\n",
       "      <td>...</td>\n",
       "      <td>...</td>\n",
       "      <td>...</td>\n",
       "      <td>...</td>\n",
       "    </tr>\n",
       "    <tr>\n",
       "      <th>4226</th>\n",
       "      <td>999287</td>\n",
       "      <td>1</td>\n",
       "      <td>: KPK Dilarang Membawa Brimob Bersenjata Masuk...</td>\n",
       "      <td>KPK Dilarang Membawa Brimob Bersenjata Masuk G...</td>\n",
       "    </tr>\n",
       "    <tr>\n",
       "      <th>4227</th>\n",
       "      <td>999472</td>\n",
       "      <td>1</td>\n",
       "      <td>Foto pejabat keuangan dibawah palu arit</td>\n",
       "      <td>Jangan mau dialihkan kepada pakaian adat… FOKU...</td>\n",
       "    </tr>\n",
       "    <tr>\n",
       "      <th>4228</th>\n",
       "      <td>999501</td>\n",
       "      <td>1</td>\n",
       "      <td>Gambar Denny Siregar Musuh Warga Tasikmalaya d...</td>\n",
       "      <td>Akhir nya bisa terkenal bang denny</td>\n",
       "    </tr>\n",
       "    <tr>\n",
       "      <th>4229</th>\n",
       "      <td>999848</td>\n",
       "      <td>1</td>\n",
       "      <td>Kaesang: Bapak Saya dengan Kesederhaan Bisa Ni...</td>\n",
       "      <td>Bapak Saya dengan Kesederhaan Bisa Nipu Rakyat...</td>\n",
       "    </tr>\n",
       "    <tr>\n",
       "      <th>4230</th>\n",
       "      <td>999860</td>\n",
       "      <td>1</td>\n",
       "      <td>Laser dari termometer gun akan merusak struktu...</td>\n",
       "      <td>IN: Saya nolak. Kalau Anda mau periksa, bukan ...</td>\n",
       "    </tr>\n",
       "  </tbody>\n",
       "</table>\n",
       "<p>4231 rows × 4 columns</p>\n",
       "</div>"
      ],
      "text/plain": [
       "          ID  ...                                             narasi\n",
       "0         71  ...  A caller to a radio talk show recently shared ...\n",
       "1        461  ...  Yth.Seluruh Anggota Grup Sesuai Instruksi Gube...\n",
       "2        495  ...  Jokowi adalah presiden terbaik dlm sejarah ban...\n",
       "3        550  ...  Maaf Mas2 dan Mbak2, ini bukan politik, tapi k...\n",
       "4        681  ...        Kadrun kalo lihat foto ini panas dingin . .\n",
       "...      ...  ...                                                ...\n",
       "4226  999287  ...  KPK Dilarang Membawa Brimob Bersenjata Masuk G...\n",
       "4227  999472  ...  Jangan mau dialihkan kepada pakaian adat… FOKU...\n",
       "4228  999501  ...                 Akhir nya bisa terkenal bang denny\n",
       "4229  999848  ...  Bapak Saya dengan Kesederhaan Bisa Nipu Rakyat...\n",
       "4230  999860  ...  IN: Saya nolak. Kalau Anda mau periksa, bukan ...\n",
       "\n",
       "[4231 rows x 4 columns]"
      ]
     },
     "execution_count": 7,
     "metadata": {
      "tags": []
     },
     "output_type": "execute_result"
    }
   ],
   "source": [
    "df"
   ]
  },
  {
   "cell_type": "code",
   "execution_count": 8,
   "metadata": {
    "id": "W_YQkpj5T3uP"
   },
   "outputs": [],
   "source": [
    "df['teks']=df['judul'].astype(str)+' '+df['narasi'].astype(str)\n",
    "col=['judul', 'narasi']\n",
    "df.drop(col, inplace=True, axis=1)"
   ]
  },
  {
   "cell_type": "code",
   "execution_count": 9,
   "metadata": {
    "colab": {
     "base_uri": "https://localhost:8080/",
     "height": 419
    },
    "id": "2luvVFmG8xaq",
    "outputId": "ece22744-7498-4a61-f22d-afc42db57e7b"
   },
   "outputs": [
    {
     "data": {
      "text/html": [
       "<div>\n",
       "<style scoped>\n",
       "    .dataframe tbody tr th:only-of-type {\n",
       "        vertical-align: middle;\n",
       "    }\n",
       "\n",
       "    .dataframe tbody tr th {\n",
       "        vertical-align: top;\n",
       "    }\n",
       "\n",
       "    .dataframe thead th {\n",
       "        text-align: right;\n",
       "    }\n",
       "</style>\n",
       "<table border=\"1\" class=\"dataframe\">\n",
       "  <thead>\n",
       "    <tr style=\"text-align: right;\">\n",
       "      <th></th>\n",
       "      <th>ID</th>\n",
       "      <th>label</th>\n",
       "      <th>teks</th>\n",
       "    </tr>\n",
       "  </thead>\n",
       "  <tbody>\n",
       "    <tr>\n",
       "      <th>0</th>\n",
       "      <td>71</td>\n",
       "      <td>1</td>\n",
       "      <td>Pemakaian Masker Menyebabkan Penyakit Legionna...</td>\n",
       "    </tr>\n",
       "    <tr>\n",
       "      <th>1</th>\n",
       "      <td>461</td>\n",
       "      <td>1</td>\n",
       "      <td>Instruksi Gubernur Jateng tentang penilangan  ...</td>\n",
       "    </tr>\n",
       "    <tr>\n",
       "      <th>2</th>\n",
       "      <td>495</td>\n",
       "      <td>1</td>\n",
       "      <td>Foto Jim Rohn: Jokowi adalah presiden terbaik ...</td>\n",
       "    </tr>\n",
       "    <tr>\n",
       "      <th>3</th>\n",
       "      <td>550</td>\n",
       "      <td>1</td>\n",
       "      <td>ini bukan politik, tapi kenyataan Pak Jokowi b...</td>\n",
       "    </tr>\n",
       "    <tr>\n",
       "      <th>4</th>\n",
       "      <td>681</td>\n",
       "      <td>1</td>\n",
       "      <td>Foto Kadrun kalo lihat foto ini panas dingin K...</td>\n",
       "    </tr>\n",
       "    <tr>\n",
       "      <th>...</th>\n",
       "      <td>...</td>\n",
       "      <td>...</td>\n",
       "      <td>...</td>\n",
       "    </tr>\n",
       "    <tr>\n",
       "      <th>4226</th>\n",
       "      <td>999287</td>\n",
       "      <td>1</td>\n",
       "      <td>: KPK Dilarang Membawa Brimob Bersenjata Masuk...</td>\n",
       "    </tr>\n",
       "    <tr>\n",
       "      <th>4227</th>\n",
       "      <td>999472</td>\n",
       "      <td>1</td>\n",
       "      <td>Foto pejabat keuangan dibawah palu arit Jangan...</td>\n",
       "    </tr>\n",
       "    <tr>\n",
       "      <th>4228</th>\n",
       "      <td>999501</td>\n",
       "      <td>1</td>\n",
       "      <td>Gambar Denny Siregar Musuh Warga Tasikmalaya d...</td>\n",
       "    </tr>\n",
       "    <tr>\n",
       "      <th>4229</th>\n",
       "      <td>999848</td>\n",
       "      <td>1</td>\n",
       "      <td>Kaesang: Bapak Saya dengan Kesederhaan Bisa Ni...</td>\n",
       "    </tr>\n",
       "    <tr>\n",
       "      <th>4230</th>\n",
       "      <td>999860</td>\n",
       "      <td>1</td>\n",
       "      <td>Laser dari termometer gun akan merusak struktu...</td>\n",
       "    </tr>\n",
       "  </tbody>\n",
       "</table>\n",
       "<p>4231 rows × 3 columns</p>\n",
       "</div>"
      ],
      "text/plain": [
       "          ID  label                                               teks\n",
       "0         71      1  Pemakaian Masker Menyebabkan Penyakit Legionna...\n",
       "1        461      1  Instruksi Gubernur Jateng tentang penilangan  ...\n",
       "2        495      1  Foto Jim Rohn: Jokowi adalah presiden terbaik ...\n",
       "3        550      1  ini bukan politik, tapi kenyataan Pak Jokowi b...\n",
       "4        681      1  Foto Kadrun kalo lihat foto ini panas dingin K...\n",
       "...      ...    ...                                                ...\n",
       "4226  999287      1  : KPK Dilarang Membawa Brimob Bersenjata Masuk...\n",
       "4227  999472      1  Foto pejabat keuangan dibawah palu arit Jangan...\n",
       "4228  999501      1  Gambar Denny Siregar Musuh Warga Tasikmalaya d...\n",
       "4229  999848      1  Kaesang: Bapak Saya dengan Kesederhaan Bisa Ni...\n",
       "4230  999860      1  Laser dari termometer gun akan merusak struktu...\n",
       "\n",
       "[4231 rows x 3 columns]"
      ]
     },
     "execution_count": 9,
     "metadata": {
      "tags": []
     },
     "output_type": "execute_result"
    }
   ],
   "source": [
    "df"
   ]
  },
  {
   "cell_type": "code",
   "execution_count": 10,
   "metadata": {
    "id": "Bx-13yNrs8C-"
   },
   "outputs": [],
   "source": [
    "# helper function to clean text\n",
    "def processTeks(teks):\n",
    "    # Remove HTML special entities (e.g. &amp;)\n",
    "    teks = re.sub(r'\\&\\w*;', '', teks)\n",
    "    #Convert @username to AT_USER\n",
    "    teks = re.sub('@[^\\s]+','',teks)\n",
    "    # Remove tickers\n",
    "    teks = re.sub(r'\\$\\w*', '', teks)\n",
    "    # To lowercase\n",
    "    teks = teks.lower()\n",
    "    # Remove hyperlinks\n",
    "    teks = re.sub(r'https?:\\/\\/.*\\/\\w*', '', teks)\n",
    "    # Remove hashtags\n",
    "    teks = re.sub(r'#\\w*', '', teks)\n",
    "    # Remove Punctuation and split 's, 't, 've with a space for filter\n",
    "    teks = re.sub(r'[' + punctuation.replace('@', '') + ']+', ' ', teks)\n",
    "    # Remove words with 2 or fewer letters\n",
    "    teks = re.sub(r'\\b\\w{1,2}\\b', '', teks)\n",
    "    # Remove whitespace (including new line characters)\n",
    "    teks = re.sub(r'\\s\\s+', ' ', teks)\n",
    "    # Remove single space remaining at the front of the tweet.\n",
    "    teks = teks.lstrip(' ') \n",
    "    # Remove characters beyond Basic Multilingual Plane (BMP) of Unicode:\n",
    "    teks = ''.join(c for c in teks if c <= '\\uFFFF') \n",
    "    return teks"
   ]
  },
  {
   "cell_type": "code",
   "execution_count": 11,
   "metadata": {
    "colab": {
     "base_uri": "https://localhost:8080/",
     "height": 119
    },
    "id": "fn01UPMArVk4",
    "outputId": "59d275be-3981-4626-81c1-e24a9b21538b"
   },
   "outputs": [
    {
     "data": {
      "text/plain": [
       "0    pemakaian masker menyebabkan penyakit legionna...\n",
       "1    instruksi gubernur jateng tentang penilangan b...\n",
       "2    foto jim rohn jokowi adalah presiden terbaik d...\n",
       "3    ini bukan politik tapi kenyataan pak jokowi be...\n",
       "4    foto kadrun kalo lihat foto ini panas dingin k...\n",
       "Name: teks, dtype: object"
      ]
     },
     "execution_count": 11,
     "metadata": {
      "tags": []
     },
     "output_type": "execute_result"
    }
   ],
   "source": [
    "# clean dataframe's text column\n",
    "df['teks'] = df['teks'].apply(processTeks)\n",
    "# preview some cleaned tweets\n",
    "df['teks'].head()"
   ]
  },
  {
   "cell_type": "code",
   "execution_count": 12,
   "metadata": {
    "colab": {
     "base_uri": "https://localhost:8080/",
     "height": 34
    },
    "id": "GTLXhRlvfdqw",
    "outputId": "8610297d-370a-4c0d-881f-1ab3214b6821"
   },
   "outputs": [
    {
     "data": {
      "text/plain": [
       "(4226, 3)"
      ]
     },
     "execution_count": 12,
     "metadata": {
      "tags": []
     },
     "output_type": "execute_result"
    }
   ],
   "source": [
    "# drop duplicates\n",
    "df = df.drop_duplicates('teks')\n",
    "df.shape"
   ]
  },
  {
   "cell_type": "code",
   "execution_count": 13,
   "metadata": {
    "colab": {
     "base_uri": "https://localhost:8080/",
     "height": 669
    },
    "id": "aeebaHglZrxB",
    "outputId": "49df80af-f79c-439a-c39b-78e0422fb8b5"
   },
   "outputs": [
    {
     "data": {
      "text/html": [
       "<div>\n",
       "<style scoped>\n",
       "    .dataframe tbody tr th:only-of-type {\n",
       "        vertical-align: middle;\n",
       "    }\n",
       "\n",
       "    .dataframe tbody tr th {\n",
       "        vertical-align: top;\n",
       "    }\n",
       "\n",
       "    .dataframe thead th {\n",
       "        text-align: right;\n",
       "    }\n",
       "</style>\n",
       "<table border=\"1\" class=\"dataframe\">\n",
       "  <thead>\n",
       "    <tr style=\"text-align: right;\">\n",
       "      <th></th>\n",
       "      <th>teks</th>\n",
       "      <th>tokens</th>\n",
       "    </tr>\n",
       "  </thead>\n",
       "  <tbody>\n",
       "    <tr>\n",
       "      <th>0</th>\n",
       "      <td>pemakaian masker menyebabkan penyakit legionna...</td>\n",
       "      <td>[pemakaian, masker, menyebabkan, penyakit, leg...</td>\n",
       "    </tr>\n",
       "    <tr>\n",
       "      <th>1</th>\n",
       "      <td>instruksi gubernur jateng tentang penilangan b...</td>\n",
       "      <td>[instruksi, gubernur, jateng, penilangan, berm...</td>\n",
       "    </tr>\n",
       "    <tr>\n",
       "      <th>2</th>\n",
       "      <td>foto jim rohn jokowi adalah presiden terbaik d...</td>\n",
       "      <td>[foto, jim, rohn, jokowi, presiden, terbaik, d...</td>\n",
       "    </tr>\n",
       "    <tr>\n",
       "      <th>3</th>\n",
       "      <td>ini bukan politik tapi kenyataan pak jokowi be...</td>\n",
       "      <td>[politik, kenyataan, jokowi, berhasil, memulan...</td>\n",
       "    </tr>\n",
       "    <tr>\n",
       "      <th>4</th>\n",
       "      <td>foto kadrun kalo lihat foto ini panas dingin k...</td>\n",
       "      <td>[foto, kadrun, kalo, lihat, foto, panas, dingi...</td>\n",
       "    </tr>\n",
       "    <tr>\n",
       "      <th>5</th>\n",
       "      <td>event promo smartphone jne 2020 spesial bulan ...</td>\n",
       "      <td>[event, promo, smartphone, jne, 2020, spesial,...</td>\n",
       "    </tr>\n",
       "    <tr>\n",
       "      <th>6</th>\n",
       "      <td>mereka sudah mempersiapkan diri dengan baik un...</td>\n",
       "      <td>[menguasai, negri, lihatlah, menguasai, negri]</td>\n",
       "    </tr>\n",
       "    <tr>\n",
       "      <th>7</th>\n",
       "      <td>foto presiden italia menangis karena tak cukup...</td>\n",
       "      <td>[foto, presiden, italia, menangis, lahan, meng...</td>\n",
       "    </tr>\n",
       "    <tr>\n",
       "      <th>8</th>\n",
       "      <td>kapolres timor tengah utara nusa tenggara timu...</td>\n",
       "      <td>[kapolres, timor, utara, nusa, tenggara, timur...</td>\n",
       "    </tr>\n",
       "    <tr>\n",
       "      <th>9</th>\n",
       "      <td>video polisi china telah menganiaya wanita uig...</td>\n",
       "      <td>[video, polisi, china, menganiaya, wanita, uig...</td>\n",
       "    </tr>\n",
       "    <tr>\n",
       "      <th>10</th>\n",
       "      <td>akhirnya jokowi bersedia mengundurkan diri akh...</td>\n",
       "      <td>[jokowi, bersedia, mengundurkan, jokowi, berse...</td>\n",
       "    </tr>\n",
       "    <tr>\n",
       "      <th>11</th>\n",
       "      <td>info jalur rawan begal dan himbauan untuk tida...</td>\n",
       "      <td>[info, jalur, rawan, begal, himbauan, malam, k...</td>\n",
       "    </tr>\n",
       "    <tr>\n",
       "      <th>12</th>\n",
       "      <td>dirut agung podomoro land cosmas batubara meni...</td>\n",
       "      <td>[dirut, agung, podomoro, land, cosmas, batubar...</td>\n",
       "    </tr>\n",
       "    <tr>\n",
       "      <th>13</th>\n",
       "      <td>sby sudah telepon moeldoko suruh jokowi akui k...</td>\n",
       "      <td>[sby, telepon, moeldoko, suruh, jokowi, akui, ...</td>\n",
       "    </tr>\n",
       "    <tr>\n",
       "      <th>14</th>\n",
       "      <td>foto anak rohingya disiksa komunis relakah ana...</td>\n",
       "      <td>[foto, anak, rohingya, disiksa, komunis, relak...</td>\n",
       "    </tr>\n",
       "    <tr>\n",
       "      <th>15</th>\n",
       "      <td>orang cina punya ktp cilacap atas nama karsono...</td>\n",
       "      <td>[orang, cina, ktp, cilacap, nama, karsono, kej...</td>\n",
       "    </tr>\n",
       "    <tr>\n",
       "      <th>16</th>\n",
       "      <td>fadli zon semua warga indonesia yang tidak pil...</td>\n",
       "      <td>[fadli, zon, warga, indonesia, pilih, prabowo,...</td>\n",
       "    </tr>\n",
       "    <tr>\n",
       "      <th>17</th>\n",
       "      <td>pesan berantai undian berhadiah dari kementeri...</td>\n",
       "      <td>[pesan, berantai, undian, berhadiah, kementeri...</td>\n",
       "    </tr>\n",
       "    <tr>\n",
       "      <th>18</th>\n",
       "      <td>indonesia penuhi pki hahhahhahahhaha indonesia...</td>\n",
       "      <td>[indonesia, penuhi, pki, hahhahhahahhaha, indo...</td>\n",
       "    </tr>\n",
       "    <tr>\n",
       "      <th>19</th>\n",
       "      <td>sandi sarankan warga ngadu kelurahan saja asta...</td>\n",
       "      <td>[sandi, sarankan, warga, ngadu, kelurahan, ast...</td>\n",
       "    </tr>\n",
       "  </tbody>\n",
       "</table>\n",
       "</div>"
      ],
      "text/plain": [
       "                                                 teks                                             tokens\n",
       "0   pemakaian masker menyebabkan penyakit legionna...  [pemakaian, masker, menyebabkan, penyakit, leg...\n",
       "1   instruksi gubernur jateng tentang penilangan b...  [instruksi, gubernur, jateng, penilangan, berm...\n",
       "2   foto jim rohn jokowi adalah presiden terbaik d...  [foto, jim, rohn, jokowi, presiden, terbaik, d...\n",
       "3   ini bukan politik tapi kenyataan pak jokowi be...  [politik, kenyataan, jokowi, berhasil, memulan...\n",
       "4   foto kadrun kalo lihat foto ini panas dingin k...  [foto, kadrun, kalo, lihat, foto, panas, dingi...\n",
       "5   event promo smartphone jne 2020 spesial bulan ...  [event, promo, smartphone, jne, 2020, spesial,...\n",
       "6   mereka sudah mempersiapkan diri dengan baik un...     [menguasai, negri, lihatlah, menguasai, negri]\n",
       "7   foto presiden italia menangis karena tak cukup...  [foto, presiden, italia, menangis, lahan, meng...\n",
       "8   kapolres timor tengah utara nusa tenggara timu...  [kapolres, timor, utara, nusa, tenggara, timur...\n",
       "9   video polisi china telah menganiaya wanita uig...  [video, polisi, china, menganiaya, wanita, uig...\n",
       "10  akhirnya jokowi bersedia mengundurkan diri akh...  [jokowi, bersedia, mengundurkan, jokowi, berse...\n",
       "11  info jalur rawan begal dan himbauan untuk tida...  [info, jalur, rawan, begal, himbauan, malam, k...\n",
       "12  dirut agung podomoro land cosmas batubara meni...  [dirut, agung, podomoro, land, cosmas, batubar...\n",
       "13  sby sudah telepon moeldoko suruh jokowi akui k...  [sby, telepon, moeldoko, suruh, jokowi, akui, ...\n",
       "14  foto anak rohingya disiksa komunis relakah ana...  [foto, anak, rohingya, disiksa, komunis, relak...\n",
       "15  orang cina punya ktp cilacap atas nama karsono...  [orang, cina, ktp, cilacap, nama, karsono, kej...\n",
       "16  fadli zon semua warga indonesia yang tidak pil...  [fadli, zon, warga, indonesia, pilih, prabowo,...\n",
       "17  pesan berantai undian berhadiah dari kementeri...  [pesan, berantai, undian, berhadiah, kementeri...\n",
       "18  indonesia penuhi pki hahhahhahahhaha indonesia...  [indonesia, penuhi, pki, hahhahhahahhaha, indo...\n",
       "19  sandi sarankan warga ngadu kelurahan saja asta...  [sandi, sarankan, warga, ngadu, kelurahan, ast..."
      ]
     },
     "execution_count": 13,
     "metadata": {
      "tags": []
     },
     "output_type": "execute_result"
    }
   ],
   "source": [
    "#stopwords\n",
    "lstfile = open('/content/drive/My Drive/stopword id en.txt','r')\n",
    "lst = lstfile.readlines()\n",
    "lst = [x.strip() for x in lst] \n",
    "# tokenize helper function\n",
    "def text_process(raw_text):\n",
    "    # Check characters to see if they are in punctuation\n",
    "    nopunc = [char for char in list(raw_text) if char not in string.punctuation]\n",
    "\n",
    "    # Join the characters again to form the string.\n",
    "    nopunc = ''.join(nopunc)\n",
    "    \n",
    "    # Now just remove any stopwords\n",
    "    return [word for word in nopunc.lower().split() if word.lower() not in lst]\n",
    "\n",
    "# -------------------------------------------\n",
    "\n",
    "# tokenize message column and create a column for tokens\n",
    "df = df.copy()\n",
    "df['tokens'] = df['teks'].apply(text_process) # tokenize style 1\n",
    "df[['teks','tokens']].head(20)"
   ]
  },
  {
   "cell_type": "code",
   "execution_count": 14,
   "metadata": {
    "colab": {
     "base_uri": "https://localhost:8080/",
     "height": 187
    },
    "id": "S8eoHnNVfuyT",
    "outputId": "2251a66c-e466-4723-e675-e74be13c0fe5"
   },
   "outputs": [
    {
     "data": {
      "text/plain": [
       "[('indonesia', 748),\n",
       " ('jokowi', 578),\n",
       " ('foto', 524),\n",
       " ('orang', 499),\n",
       " ('video', 433),\n",
       " ('corona', 398),\n",
       " ('virus', 385),\n",
       " ('anak', 368),\n",
       " ('china', 347),\n",
       " ('covid', 343)]"
      ]
     },
     "execution_count": 14,
     "metadata": {
      "tags": []
     },
     "output_type": "execute_result"
    }
   ],
   "source": [
    "#word cload\n",
    "all_words = []\n",
    "for line in df['tokens']: \n",
    "    all_words.extend(line)  \n",
    "# create a word frequency dictionary\n",
    "wordfreq = Counter(all_words)\n",
    "wordfreq.most_common(10)"
   ]
  },
  {
   "cell_type": "code",
   "execution_count": 15,
   "metadata": {
    "colab": {
     "base_uri": "https://localhost:8080/",
     "height": 558
    },
    "id": "eq4Cz0__tSP8",
    "outputId": "b7928b99-c733-41b8-8204-1d1736e7bee5"
   },
   "outputs": [
    {
     "data": {
      "image/png": "[encoded data removed]",
      "text/plain": [
       "<Figure size 1224x1008 with 1 Axes>"
      ]
     },
     "metadata": {
      "needs_background": "light",
      "tags": []
     },
     "output_type": "display_data"
    }
   ],
   "source": [
    "import matplotlib.pyplot as plt\n",
    "from wordcloud import WordCloud\n",
    "wordcloud = WordCloud(width=900,\n",
    "                      height=500,\n",
    "                      max_words=500,\n",
    "                      max_font_size=100,\n",
    "                      relative_scaling=0.5,\n",
    "                      colormap='gist_rainbow',\n",
    "                      normalize_plurals=True).generate_from_frequencies(wordfreq)\n",
    "plt.figure(figsize=(17,14))\n",
    "plt.imshow(wordcloud, interpolation='bilinear')\n",
    "plt.axis(\"off\")\n",
    "plt.show()"
   ]
  },
  {
   "cell_type": "code",
   "execution_count": 16,
   "metadata": {
    "colab": {
     "base_uri": "https://localhost:8080/",
     "height": 683
    },
    "id": "JngzIw2Rynb5",
    "outputId": "3871edc3-7e81-4ab2-9584-d5fe43ef1e2c"
   },
   "outputs": [
    {
     "name": "stdout",
     "output_type": "stream",
     "text": [
      "19699\n",
      "pemakaian masker menyebabkan penyakit legionnaires caller radio talk show recently shared that his wife was hospitalized told she had covid only couple days left live doctor friend suggested she tested for legionnaires disease because she wore the same mask every day all day long turns out was legionnaires disease from the moisture bacteria her mask she was given antibiotics within two days was better what these ‘spikes’ covid are really something else due ‘mask induced infections’ \n",
      "\n",
      "\n",
      "  (0, 967)\t1\n",
      "  (0, 1368)\t1\n",
      "  (0, 3007)\t1\n",
      "  (0, 3477)\t1\n",
      "  (0, 3484)\t2\n",
      "  (0, 3688)\t2\n",
      "  (0, 3693)\t2\n",
      "  (0, 4652)\t2\n",
      "  (0, 4950)\t1\n",
      "  (0, 5642)\t1\n",
      "  (0, 6573)\t1\n",
      "  (0, 6884)\t1\n",
      "  (0, 6899)\t1\n",
      "  (0, 9429)\t1\n",
      "  (0, 9438)\t3\n",
      "  (0, 9629)\t1\n",
      "  (0, 10095)\t2\n",
      "  (0, 10097)\t1\n",
      "  (0, 11257)\t1\n",
      "  (0, 11689)\t1\n",
      "  (0, 13115)\t1\n",
      "  (0, 13631)\t1\n",
      "  (0, 14686)\t1\n",
      "  (0, 16157)\t1\n",
      "  (0, 16808)\t1\n",
      "  (0, 17126)\t1\n",
      "  (0, 17751)\t1\n",
      "  (0, 17962)\t1\n",
      "  (0, 18769)\t1\n",
      "  (0, 18834)\t1\n",
      "  (0, 19159)\t1\n",
      "  (0, 19183)\t1\n",
      "\n",
      "\n"
     ]
    }
   ],
   "source": [
    "# vectorize\n",
    "bow_transformer = CountVectorizer(analyzer=text_process).fit(df['teks'])\n",
    "# print total number of vocab words\n",
    "print(len(bow_transformer.vocabulary_))\n",
    "# example of vectorized text\n",
    "sample_teks = df['teks'][0]\n",
    "print(sample_teks)\n",
    "print('\\n')\n",
    "# vector representation\n",
    "bow_sample = bow_transformer.transform([sample_teks])\n",
    "print(bow_sample)\n",
    "print('\\n')"
   ]
  },
  {
   "cell_type": "code",
   "execution_count": 17,
   "metadata": {
    "colab": {
     "base_uri": "https://localhost:8080/",
     "height": 51
    },
    "id": "v3p2EJliyrgc",
    "outputId": "3a27e315-5239-4b20-9bcf-780df8faffd3"
   },
   "outputs": [
    {
     "name": "stdout",
     "output_type": "stream",
     "text": [
      "Shape of Sparse Matrix:  (4226, 19699)\n",
      "Amount of Non-Zero occurences:  72090\n"
     ]
    }
   ],
   "source": [
    "# transform the entire DataFrame of messages\n",
    "messages_bow = bow_transformer.transform(df['teks'])\n",
    "\n",
    "# check out the bag-of-words counts for the entire corpus as a large sparse matrix\n",
    "print('Shape of Sparse Matrix: ', messages_bow.shape)\n",
    "print('Amount of Non-Zero occurences: ', messages_bow.nnz)"
   ]
  },
  {
   "cell_type": "code",
   "execution_count": 18,
   "metadata": {
    "colab": {
     "base_uri": "https://localhost:8080/",
     "height": 561
    },
    "id": "V3WezdekyvyX",
    "outputId": "b9afe334-2871-40a0-a66a-63ed5191abd0"
   },
   "outputs": [
    {
     "name": "stdout",
     "output_type": "stream",
     "text": [
      "  (0, 19183)\t0.1522437236148884\n",
      "  (0, 19159)\t0.1522437236148884\n",
      "  (0, 18834)\t0.1522437236148884\n",
      "  (0, 18769)\t0.1329213020097921\n",
      "  (0, 17962)\t0.14511239271149928\n",
      "  (0, 17751)\t0.14005263291318118\n",
      "  (0, 17126)\t0.14511239271149928\n",
      "  (0, 16808)\t0.1522437236148884\n",
      "  (0, 16157)\t0.14511239271149928\n",
      "  (0, 14686)\t0.14005263291318118\n",
      "  (0, 13631)\t0.09787838827402011\n",
      "  (0, 13115)\t0.13021009582990717\n",
      "  (0, 11689)\t0.1522437236148884\n",
      "  (0, 11257)\t0.1135988804046958\n",
      "  (0, 10097)\t0.10293814807233824\n",
      "  (0, 10095)\t0.25572308442294794\n",
      "  (0, 9629)\t0.13021009582990717\n",
      "  (0, 9438)\t0.43533717813449785\n",
      "  (0, 9429)\t0.13021009582990717\n",
      "  (0, 6899)\t0.1522437236148884\n",
      "  (0, 6884)\t0.1522437236148884\n",
      "  (0, 6573)\t0.1522437236148884\n",
      "  (0, 5642)\t0.1522437236148884\n",
      "  (0, 4950)\t0.13612797830898155\n",
      "  (0, 4652)\t0.2658426040195842\n",
      "  (0, 3693)\t0.26042019165981434\n",
      "  (0, 3688)\t0.2658426040195842\n",
      "  (0, 3484)\t0.1409474001335324\n",
      "  (0, 3477)\t0.14511239271149928\n",
      "  (0, 3007)\t0.1522437236148884\n",
      "  (0, 1368)\t0.14005263291318118\n",
      "  (0, 967)\t0.14511239271149928\n"
     ]
    }
   ],
   "source": [
    "tfidf_transformer = TfidfTransformer().fit(messages_bow)\n",
    "tfidf_sample = tfidf_transformer.transform(bow_sample)\n",
    "print(tfidf_sample)"
   ]
  },
  {
   "cell_type": "code",
   "execution_count": 19,
   "metadata": {
    "colab": {
     "base_uri": "https://localhost:8080/",
     "height": 51
    },
    "id": "ThSBlkS_yzbr",
    "outputId": "7602f8b8-95a8-4521-b26b-45dfeed04e3e"
   },
   "outputs": [
    {
     "name": "stdout",
     "output_type": "stream",
     "text": [
      "3.9331473983623697\n",
      "4.83838829404994\n"
     ]
    }
   ],
   "source": [
    "# some IDF (inverse document frequency) example\n",
    "print(tfidf_transformer.idf_[bow_transformer.vocabulary_['corona']])\n",
    "print(tfidf_transformer.idf_[bow_transformer.vocabulary_['2020']])"
   ]
  },
  {
   "cell_type": "code",
   "execution_count": 20,
   "metadata": {
    "colab": {
     "base_uri": "https://localhost:8080/",
     "height": 34
    },
    "id": "E5xtbqP3y7UZ",
    "outputId": "edb24ca1-3e35-40a1-88de-ebf6102ed2af"
   },
   "outputs": [
    {
     "name": "stdout",
     "output_type": "stream",
     "text": [
      "(4226, 19699)\n"
     ]
    }
   ],
   "source": [
    "# to transform the entire bag-of-words corpus\n",
    "messages_tfidf = tfidf_transformer.transform(messages_bow)\n",
    "print(messages_tfidf.shape)"
   ]
  },
  {
   "cell_type": "markdown",
   "metadata": {
    "id": "qXJGA3wTy_9M"
   },
   "source": [
    "Training"
   ]
  },
  {
   "cell_type": "code",
   "execution_count": 21,
   "metadata": {
    "colab": {
     "base_uri": "https://localhost:8080/",
     "height": 1000
    },
    "id": "SeLgGkocy9Nj",
    "outputId": "a7dfd569-faf0-4f54-dc4c-66cede057230"
   },
   "outputs": [
    {
     "name": "stdout",
     "output_type": "stream",
     "text": [
      "Fitting 10 folds for each of 162 candidates, totalling 1620 fits\n"
     ]
    },
    {
     "name": "stderr",
     "output_type": "stream",
     "text": [
      "[Parallel(n_jobs=1)]: Using backend SequentialBackend with 1 concurrent workers.\n",
      "[Parallel(n_jobs=1)]: Done 1620 out of 1620 | elapsed: 14.0min finished\n"
     ]
    },
    {
     "name": "stdout",
     "output_type": "stream",
     "text": [
      "\n",
      "Best Model: 0.835207 using {'bow__min_df': 7, 'bow__ngram_range': (1, 3), 'classifier__alpha': 0.1, 'tfidf__use_idf': False}\n",
      "\n",
      "\n",
      "Mean: 0.827515 Stdev:(0.008681) with: {'bow__min_df': 2, 'bow__ngram_range': (1, 1), 'classifier__alpha': 0.1, 'tfidf__use_idf': True}\n",
      "Mean: 0.829586 Stdev:(0.009281) with: {'bow__min_df': 2, 'bow__ngram_range': (1, 1), 'classifier__alpha': 0.1, 'tfidf__use_idf': False}\n",
      "Mean: 0.822189 Stdev:(0.005030) with: {'bow__min_df': 2, 'bow__ngram_range': (1, 1), 'classifier__alpha': 0.01, 'tfidf__use_idf': True}\n",
      "Mean: 0.827219 Stdev:(0.007026) with: {'bow__min_df': 2, 'bow__ngram_range': (1, 1), 'classifier__alpha': 0.01, 'tfidf__use_idf': False}\n",
      "Mean: 0.820414 Stdev:(0.008477) with: {'bow__min_df': 2, 'bow__ngram_range': (1, 1), 'classifier__alpha': 0.001, 'tfidf__use_idf': True}\n",
      "Mean: 0.823669 Stdev:(0.008284) with: {'bow__min_df': 2, 'bow__ngram_range': (1, 1), 'classifier__alpha': 0.001, 'tfidf__use_idf': False}\n",
      "Mean: 0.828402 Stdev:(0.013297) with: {'bow__min_df': 2, 'bow__ngram_range': (1, 2), 'classifier__alpha': 0.1, 'tfidf__use_idf': True}\n",
      "Mean: 0.831065 Stdev:(0.011569) with: {'bow__min_df': 2, 'bow__ngram_range': (1, 2), 'classifier__alpha': 0.1, 'tfidf__use_idf': False}\n",
      "Mean: 0.825148 Stdev:(0.011026) with: {'bow__min_df': 2, 'bow__ngram_range': (1, 2), 'classifier__alpha': 0.01, 'tfidf__use_idf': True}\n",
      "Mean: 0.827811 Stdev:(0.013545) with: {'bow__min_df': 2, 'bow__ngram_range': (1, 2), 'classifier__alpha': 0.01, 'tfidf__use_idf': False}\n",
      "Mean: 0.826627 Stdev:(0.007391) with: {'bow__min_df': 2, 'bow__ngram_range': (1, 2), 'classifier__alpha': 0.001, 'tfidf__use_idf': True}\n",
      "Mean: 0.826036 Stdev:(0.008347) with: {'bow__min_df': 2, 'bow__ngram_range': (1, 2), 'classifier__alpha': 0.001, 'tfidf__use_idf': False}\n",
      "Mean: 0.827811 Stdev:(0.012883) with: {'bow__min_df': 2, 'bow__ngram_range': (1, 3), 'classifier__alpha': 0.1, 'tfidf__use_idf': True}\n",
      "Mean: 0.831361 Stdev:(0.013031) with: {'bow__min_df': 2, 'bow__ngram_range': (1, 3), 'classifier__alpha': 0.1, 'tfidf__use_idf': False}\n",
      "Mean: 0.825740 Stdev:(0.011106) with: {'bow__min_df': 2, 'bow__ngram_range': (1, 3), 'classifier__alpha': 0.01, 'tfidf__use_idf': True}\n",
      "Mean: 0.827219 Stdev:(0.015833) with: {'bow__min_df': 2, 'bow__ngram_range': (1, 3), 'classifier__alpha': 0.01, 'tfidf__use_idf': False}\n",
      "Mean: 0.824852 Stdev:(0.007101) with: {'bow__min_df': 2, 'bow__ngram_range': (1, 3), 'classifier__alpha': 0.001, 'tfidf__use_idf': True}\n",
      "Mean: 0.825740 Stdev:(0.008722) with: {'bow__min_df': 2, 'bow__ngram_range': (1, 3), 'classifier__alpha': 0.001, 'tfidf__use_idf': False}\n",
      "Mean: 0.828402 Stdev:(0.007828) with: {'bow__min_df': 3, 'bow__ngram_range': (1, 1), 'classifier__alpha': 0.1, 'tfidf__use_idf': True}\n",
      "Mean: 0.830178 Stdev:(0.008493) with: {'bow__min_df': 3, 'bow__ngram_range': (1, 1), 'classifier__alpha': 0.1, 'tfidf__use_idf': False}\n",
      "Mean: 0.826627 Stdev:(0.007738) with: {'bow__min_df': 3, 'bow__ngram_range': (1, 1), 'classifier__alpha': 0.01, 'tfidf__use_idf': True}\n",
      "Mean: 0.828402 Stdev:(0.007828) with: {'bow__min_df': 3, 'bow__ngram_range': (1, 1), 'classifier__alpha': 0.01, 'tfidf__use_idf': False}\n",
      "Mean: 0.825740 Stdev:(0.007180) with: {'bow__min_df': 3, 'bow__ngram_range': (1, 1), 'classifier__alpha': 0.001, 'tfidf__use_idf': True}\n",
      "Mean: 0.826627 Stdev:(0.005947) with: {'bow__min_df': 3, 'bow__ngram_range': (1, 1), 'classifier__alpha': 0.001, 'tfidf__use_idf': False}\n",
      "Mean: 0.831065 Stdev:(0.011941) with: {'bow__min_df': 3, 'bow__ngram_range': (1, 2), 'classifier__alpha': 0.1, 'tfidf__use_idf': True}\n",
      "Mean: 0.833432 Stdev:(0.011309) with: {'bow__min_df': 3, 'bow__ngram_range': (1, 2), 'classifier__alpha': 0.1, 'tfidf__use_idf': False}\n",
      "Mean: 0.827811 Stdev:(0.009795) with: {'bow__min_df': 3, 'bow__ngram_range': (1, 2), 'classifier__alpha': 0.01, 'tfidf__use_idf': True}\n",
      "Mean: 0.827811 Stdev:(0.010975) with: {'bow__min_df': 3, 'bow__ngram_range': (1, 2), 'classifier__alpha': 0.01, 'tfidf__use_idf': False}\n",
      "Mean: 0.826331 Stdev:(0.008477) with: {'bow__min_df': 3, 'bow__ngram_range': (1, 2), 'classifier__alpha': 0.001, 'tfidf__use_idf': True}\n",
      "Mean: 0.828107 Stdev:(0.008621) with: {'bow__min_df': 3, 'bow__ngram_range': (1, 2), 'classifier__alpha': 0.001, 'tfidf__use_idf': False}\n",
      "Mean: 0.830769 Stdev:(0.013152) with: {'bow__min_df': 3, 'bow__ngram_range': (1, 3), 'classifier__alpha': 0.1, 'tfidf__use_idf': True}\n",
      "Mean: 0.831953 Stdev:(0.012256) with: {'bow__min_df': 3, 'bow__ngram_range': (1, 3), 'classifier__alpha': 0.1, 'tfidf__use_idf': False}\n",
      "Mean: 0.828107 Stdev:(0.010287) with: {'bow__min_df': 3, 'bow__ngram_range': (1, 3), 'classifier__alpha': 0.01, 'tfidf__use_idf': True}\n",
      "Mean: 0.828402 Stdev:(0.009812) with: {'bow__min_df': 3, 'bow__ngram_range': (1, 3), 'classifier__alpha': 0.01, 'tfidf__use_idf': False}\n",
      "Mean: 0.826331 Stdev:(0.007721) with: {'bow__min_df': 3, 'bow__ngram_range': (1, 3), 'classifier__alpha': 0.001, 'tfidf__use_idf': True}\n",
      "Mean: 0.827811 Stdev:(0.008757) with: {'bow__min_df': 3, 'bow__ngram_range': (1, 3), 'classifier__alpha': 0.001, 'tfidf__use_idf': False}\n",
      "Mean: 0.830178 Stdev:(0.011007) with: {'bow__min_df': 4, 'bow__ngram_range': (1, 1), 'classifier__alpha': 0.1, 'tfidf__use_idf': True}\n",
      "Mean: 0.830178 Stdev:(0.011243) with: {'bow__min_df': 4, 'bow__ngram_range': (1, 1), 'classifier__alpha': 0.1, 'tfidf__use_idf': False}\n",
      "Mean: 0.829882 Stdev:(0.011554) with: {'bow__min_df': 4, 'bow__ngram_range': (1, 1), 'classifier__alpha': 0.01, 'tfidf__use_idf': True}\n",
      "Mean: 0.828107 Stdev:(0.009210) with: {'bow__min_df': 4, 'bow__ngram_range': (1, 1), 'classifier__alpha': 0.01, 'tfidf__use_idf': False}\n",
      "Mean: 0.827219 Stdev:(0.010601) with: {'bow__min_df': 4, 'bow__ngram_range': (1, 1), 'classifier__alpha': 0.001, 'tfidf__use_idf': True}\n",
      "Mean: 0.826036 Stdev:(0.008135) with: {'bow__min_df': 4, 'bow__ngram_range': (1, 1), 'classifier__alpha': 0.001, 'tfidf__use_idf': False}\n",
      "Mean: 0.830178 Stdev:(0.016903) with: {'bow__min_df': 4, 'bow__ngram_range': (1, 2), 'classifier__alpha': 0.1, 'tfidf__use_idf': True}\n",
      "Mean: 0.833728 Stdev:(0.013018) with: {'bow__min_df': 4, 'bow__ngram_range': (1, 2), 'classifier__alpha': 0.1, 'tfidf__use_idf': False}\n",
      "Mean: 0.830769 Stdev:(0.013152) with: {'bow__min_df': 4, 'bow__ngram_range': (1, 2), 'classifier__alpha': 0.01, 'tfidf__use_idf': True}\n",
      "Mean: 0.832840 Stdev:(0.010931) with: {'bow__min_df': 4, 'bow__ngram_range': (1, 2), 'classifier__alpha': 0.01, 'tfidf__use_idf': False}\n",
      "Mean: 0.828994 Stdev:(0.011745) with: {'bow__min_df': 4, 'bow__ngram_range': (1, 2), 'classifier__alpha': 0.001, 'tfidf__use_idf': True}\n",
      "Mean: 0.828698 Stdev:(0.011340) with: {'bow__min_df': 4, 'bow__ngram_range': (1, 2), 'classifier__alpha': 0.001, 'tfidf__use_idf': False}\n",
      "Mean: 0.832249 Stdev:(0.018096) with: {'bow__min_df': 4, 'bow__ngram_range': (1, 3), 'classifier__alpha': 0.1, 'tfidf__use_idf': True}\n",
      "Mean: 0.833432 Stdev:(0.013561) with: {'bow__min_df': 4, 'bow__ngram_range': (1, 3), 'classifier__alpha': 0.1, 'tfidf__use_idf': False}\n",
      "Mean: 0.830178 Stdev:(0.012977) with: {'bow__min_df': 4, 'bow__ngram_range': (1, 3), 'classifier__alpha': 0.01, 'tfidf__use_idf': True}\n",
      "Mean: 0.833432 Stdev:(0.012763) with: {'bow__min_df': 4, 'bow__ngram_range': (1, 3), 'classifier__alpha': 0.01, 'tfidf__use_idf': False}\n",
      "Mean: 0.828402 Stdev:(0.013031) with: {'bow__min_df': 4, 'bow__ngram_range': (1, 3), 'classifier__alpha': 0.001, 'tfidf__use_idf': True}\n",
      "Mean: 0.829882 Stdev:(0.010606) with: {'bow__min_df': 4, 'bow__ngram_range': (1, 3), 'classifier__alpha': 0.001, 'tfidf__use_idf': False}\n",
      "Mean: 0.831953 Stdev:(0.008451) with: {'bow__min_df': 5, 'bow__ngram_range': (1, 1), 'classifier__alpha': 0.1, 'tfidf__use_idf': True}\n",
      "Mean: 0.831065 Stdev:(0.008920) with: {'bow__min_df': 5, 'bow__ngram_range': (1, 1), 'classifier__alpha': 0.1, 'tfidf__use_idf': False}\n",
      "Mean: 0.831065 Stdev:(0.008415) with: {'bow__min_df': 5, 'bow__ngram_range': (1, 1), 'classifier__alpha': 0.01, 'tfidf__use_idf': True}\n",
      "Mean: 0.831953 Stdev:(0.009148) with: {'bow__min_df': 5, 'bow__ngram_range': (1, 1), 'classifier__alpha': 0.01, 'tfidf__use_idf': False}\n",
      "Mean: 0.831065 Stdev:(0.007301) with: {'bow__min_df': 5, 'bow__ngram_range': (1, 1), 'classifier__alpha': 0.001, 'tfidf__use_idf': True}\n",
      "Mean: 0.831065 Stdev:(0.006407) with: {'bow__min_df': 5, 'bow__ngram_range': (1, 1), 'classifier__alpha': 0.001, 'tfidf__use_idf': False}\n",
      "Mean: 0.829290 Stdev:(0.012694) with: {'bow__min_df': 5, 'bow__ngram_range': (1, 2), 'classifier__alpha': 0.1, 'tfidf__use_idf': True}\n",
      "Mean: 0.831361 Stdev:(0.010334) with: {'bow__min_df': 5, 'bow__ngram_range': (1, 2), 'classifier__alpha': 0.1, 'tfidf__use_idf': False}\n",
      "Mean: 0.828698 Stdev:(0.012791) with: {'bow__min_df': 5, 'bow__ngram_range': (1, 2), 'classifier__alpha': 0.01, 'tfidf__use_idf': True}\n",
      "Mean: 0.830473 Stdev:(0.011764) with: {'bow__min_df': 5, 'bow__ngram_range': (1, 2), 'classifier__alpha': 0.01, 'tfidf__use_idf': False}\n",
      "Mean: 0.828402 Stdev:(0.010991) with: {'bow__min_df': 5, 'bow__ngram_range': (1, 2), 'classifier__alpha': 0.001, 'tfidf__use_idf': True}\n",
      "Mean: 0.829882 Stdev:(0.010850) with: {'bow__min_df': 5, 'bow__ngram_range': (1, 2), 'classifier__alpha': 0.001, 'tfidf__use_idf': False}\n",
      "Mean: 0.829882 Stdev:(0.014984) with: {'bow__min_df': 5, 'bow__ngram_range': (1, 3), 'classifier__alpha': 0.1, 'tfidf__use_idf': True}\n",
      "Mean: 0.831361 Stdev:(0.012622) with: {'bow__min_df': 5, 'bow__ngram_range': (1, 3), 'classifier__alpha': 0.1, 'tfidf__use_idf': False}\n",
      "Mean: 0.827811 Stdev:(0.013415) with: {'bow__min_df': 5, 'bow__ngram_range': (1, 3), 'classifier__alpha': 0.01, 'tfidf__use_idf': True}\n",
      "Mean: 0.828994 Stdev:(0.012256) with: {'bow__min_df': 5, 'bow__ngram_range': (1, 3), 'classifier__alpha': 0.01, 'tfidf__use_idf': False}\n",
      "Mean: 0.827515 Stdev:(0.011838) with: {'bow__min_df': 5, 'bow__ngram_range': (1, 3), 'classifier__alpha': 0.001, 'tfidf__use_idf': True}\n",
      "Mean: 0.829290 Stdev:(0.010915) with: {'bow__min_df': 5, 'bow__ngram_range': (1, 3), 'classifier__alpha': 0.001, 'tfidf__use_idf': False}\n",
      "Mean: 0.830473 Stdev:(0.007491) with: {'bow__min_df': 6, 'bow__ngram_range': (1, 1), 'classifier__alpha': 0.1, 'tfidf__use_idf': True}\n",
      "Mean: 0.834320 Stdev:(0.007485) with: {'bow__min_df': 6, 'bow__ngram_range': (1, 1), 'classifier__alpha': 0.1, 'tfidf__use_idf': False}\n",
      "Mean: 0.831065 Stdev:(0.006128) with: {'bow__min_df': 6, 'bow__ngram_range': (1, 1), 'classifier__alpha': 0.01, 'tfidf__use_idf': True}\n",
      "Mean: 0.833432 Stdev:(0.006881) with: {'bow__min_df': 6, 'bow__ngram_range': (1, 1), 'classifier__alpha': 0.01, 'tfidf__use_idf': False}\n",
      "Mean: 0.831361 Stdev:(0.005614) with: {'bow__min_df': 6, 'bow__ngram_range': (1, 1), 'classifier__alpha': 0.001, 'tfidf__use_idf': True}\n",
      "Mean: 0.832840 Stdev:(0.006380) with: {'bow__min_df': 6, 'bow__ngram_range': (1, 1), 'classifier__alpha': 0.001, 'tfidf__use_idf': False}\n",
      "Mean: 0.831065 Stdev:(0.010622) with: {'bow__min_df': 6, 'bow__ngram_range': (1, 2), 'classifier__alpha': 0.1, 'tfidf__use_idf': True}\n",
      "Mean: 0.832840 Stdev:(0.009745) with: {'bow__min_df': 6, 'bow__ngram_range': (1, 2), 'classifier__alpha': 0.1, 'tfidf__use_idf': False}\n",
      "Mean: 0.832544 Stdev:(0.011625) with: {'bow__min_df': 6, 'bow__ngram_range': (1, 2), 'classifier__alpha': 0.01, 'tfidf__use_idf': True}\n",
      "Mean: 0.833432 Stdev:(0.010671) with: {'bow__min_df': 6, 'bow__ngram_range': (1, 2), 'classifier__alpha': 0.01, 'tfidf__use_idf': False}\n",
      "Mean: 0.832544 Stdev:(0.010846) with: {'bow__min_df': 6, 'bow__ngram_range': (1, 2), 'classifier__alpha': 0.001, 'tfidf__use_idf': True}\n",
      "Mean: 0.833432 Stdev:(0.011614) with: {'bow__min_df': 6, 'bow__ngram_range': (1, 2), 'classifier__alpha': 0.001, 'tfidf__use_idf': False}\n",
      "Mean: 0.831361 Stdev:(0.011227) with: {'bow__min_df': 6, 'bow__ngram_range': (1, 3), 'classifier__alpha': 0.1, 'tfidf__use_idf': True}\n",
      "Mean: 0.833432 Stdev:(0.010671) with: {'bow__min_df': 6, 'bow__ngram_range': (1, 3), 'classifier__alpha': 0.1, 'tfidf__use_idf': False}\n",
      "Mean: 0.832249 Stdev:(0.011838) with: {'bow__min_df': 6, 'bow__ngram_range': (1, 3), 'classifier__alpha': 0.01, 'tfidf__use_idf': True}\n",
      "Mean: 0.833728 Stdev:(0.010895) with: {'bow__min_df': 6, 'bow__ngram_range': (1, 3), 'classifier__alpha': 0.01, 'tfidf__use_idf': False}\n",
      "Mean: 0.832544 Stdev:(0.010435) with: {'bow__min_df': 6, 'bow__ngram_range': (1, 3), 'classifier__alpha': 0.001, 'tfidf__use_idf': True}\n",
      "Mean: 0.833136 Stdev:(0.010927) with: {'bow__min_df': 6, 'bow__ngram_range': (1, 3), 'classifier__alpha': 0.001, 'tfidf__use_idf': False}\n",
      "Mean: 0.834320 Stdev:(0.007247) with: {'bow__min_df': 7, 'bow__ngram_range': (1, 1), 'classifier__alpha': 0.1, 'tfidf__use_idf': True}\n",
      "Mean: 0.834024 Stdev:(0.008518) with: {'bow__min_df': 7, 'bow__ngram_range': (1, 1), 'classifier__alpha': 0.1, 'tfidf__use_idf': False}\n",
      "Mean: 0.833136 Stdev:(0.006092) with: {'bow__min_df': 7, 'bow__ngram_range': (1, 1), 'classifier__alpha': 0.01, 'tfidf__use_idf': True}\n",
      "Mean: 0.833432 Stdev:(0.008373) with: {'bow__min_df': 7, 'bow__ngram_range': (1, 1), 'classifier__alpha': 0.01, 'tfidf__use_idf': False}\n",
      "Mean: 0.833136 Stdev:(0.005947) with: {'bow__min_df': 7, 'bow__ngram_range': (1, 1), 'classifier__alpha': 0.001, 'tfidf__use_idf': True}\n",
      "Mean: 0.832249 Stdev:(0.007373) with: {'bow__min_df': 7, 'bow__ngram_range': (1, 1), 'classifier__alpha': 0.001, 'tfidf__use_idf': False}\n",
      "Mean: 0.831953 Stdev:(0.012184) with: {'bow__min_df': 7, 'bow__ngram_range': (1, 2), 'classifier__alpha': 0.1, 'tfidf__use_idf': True}\n",
      "Mean: 0.834911 Stdev:(0.009705) with: {'bow__min_df': 7, 'bow__ngram_range': (1, 2), 'classifier__alpha': 0.1, 'tfidf__use_idf': False}\n",
      "Mean: 0.832249 Stdev:(0.008881) with: {'bow__min_df': 7, 'bow__ngram_range': (1, 2), 'classifier__alpha': 0.01, 'tfidf__use_idf': True}\n",
      "Mean: 0.833136 Stdev:(0.011243) with: {'bow__min_df': 7, 'bow__ngram_range': (1, 2), 'classifier__alpha': 0.01, 'tfidf__use_idf': False}\n",
      "Mean: 0.831657 Stdev:(0.008310) with: {'bow__min_df': 7, 'bow__ngram_range': (1, 2), 'classifier__alpha': 0.001, 'tfidf__use_idf': True}\n",
      "Mean: 0.832840 Stdev:(0.010931) with: {'bow__min_df': 7, 'bow__ngram_range': (1, 2), 'classifier__alpha': 0.001, 'tfidf__use_idf': False}\n",
      "Mean: 0.831657 Stdev:(0.011868) with: {'bow__min_df': 7, 'bow__ngram_range': (1, 3), 'classifier__alpha': 0.1, 'tfidf__use_idf': True}\n",
      "Mean: 0.835207 Stdev:(0.010671) with: {'bow__min_df': 7, 'bow__ngram_range': (1, 3), 'classifier__alpha': 0.1, 'tfidf__use_idf': False}\n",
      "Mean: 0.831953 Stdev:(0.009705) with: {'bow__min_df': 7, 'bow__ngram_range': (1, 3), 'classifier__alpha': 0.01, 'tfidf__use_idf': True}\n",
      "Mean: 0.832249 Stdev:(0.010671) with: {'bow__min_df': 7, 'bow__ngram_range': (1, 3), 'classifier__alpha': 0.01, 'tfidf__use_idf': False}\n",
      "Mean: 0.831065 Stdev:(0.008621) with: {'bow__min_df': 7, 'bow__ngram_range': (1, 3), 'classifier__alpha': 0.001, 'tfidf__use_idf': True}\n",
      "Mean: 0.832249 Stdev:(0.010671) with: {'bow__min_df': 7, 'bow__ngram_range': (1, 3), 'classifier__alpha': 0.001, 'tfidf__use_idf': False}\n",
      "Mean: 0.831065 Stdev:(0.007057) with: {'bow__min_df': 8, 'bow__ngram_range': (1, 1), 'classifier__alpha': 0.1, 'tfidf__use_idf': True}\n",
      "Mean: 0.831953 Stdev:(0.008656) with: {'bow__min_df': 8, 'bow__ngram_range': (1, 1), 'classifier__alpha': 0.1, 'tfidf__use_idf': False}\n",
      "Mean: 0.832544 Stdev:(0.005487) with: {'bow__min_df': 8, 'bow__ngram_range': (1, 1), 'classifier__alpha': 0.01, 'tfidf__use_idf': True}\n",
      "Mean: 0.830769 Stdev:(0.007578) with: {'bow__min_df': 8, 'bow__ngram_range': (1, 1), 'classifier__alpha': 0.01, 'tfidf__use_idf': False}\n",
      "Mean: 0.832544 Stdev:(0.004621) with: {'bow__min_df': 8, 'bow__ngram_range': (1, 1), 'classifier__alpha': 0.001, 'tfidf__use_idf': True}\n",
      "Mean: 0.830178 Stdev:(0.006373) with: {'bow__min_df': 8, 'bow__ngram_range': (1, 1), 'classifier__alpha': 0.001, 'tfidf__use_idf': False}\n",
      "Mean: 0.833136 Stdev:(0.010007) with: {'bow__min_df': 8, 'bow__ngram_range': (1, 2), 'classifier__alpha': 0.1, 'tfidf__use_idf': True}\n",
      "Mean: 0.834024 Stdev:(0.011262) with: {'bow__min_df': 8, 'bow__ngram_range': (1, 2), 'classifier__alpha': 0.1, 'tfidf__use_idf': False}\n",
      "Mean: 0.832544 Stdev:(0.007508) with: {'bow__min_df': 8, 'bow__ngram_range': (1, 2), 'classifier__alpha': 0.01, 'tfidf__use_idf': True}\n",
      "Mean: 0.832249 Stdev:(0.008162) with: {'bow__min_df': 8, 'bow__ngram_range': (1, 2), 'classifier__alpha': 0.01, 'tfidf__use_idf': False}\n",
      "Mean: 0.832249 Stdev:(0.007491) with: {'bow__min_df': 8, 'bow__ngram_range': (1, 2), 'classifier__alpha': 0.001, 'tfidf__use_idf': True}\n",
      "Mean: 0.831953 Stdev:(0.008347) with: {'bow__min_df': 8, 'bow__ngram_range': (1, 2), 'classifier__alpha': 0.001, 'tfidf__use_idf': False}\n",
      "Mean: 0.832840 Stdev:(0.010185) with: {'bow__min_df': 8, 'bow__ngram_range': (1, 3), 'classifier__alpha': 0.1, 'tfidf__use_idf': True}\n",
      "Mean: 0.834024 Stdev:(0.010947) with: {'bow__min_df': 8, 'bow__ngram_range': (1, 3), 'classifier__alpha': 0.1, 'tfidf__use_idf': False}\n",
      "Mean: 0.832544 Stdev:(0.007624) with: {'bow__min_df': 8, 'bow__ngram_range': (1, 3), 'classifier__alpha': 0.01, 'tfidf__use_idf': True}\n",
      "Mean: 0.832249 Stdev:(0.008681) with: {'bow__min_df': 8, 'bow__ngram_range': (1, 3), 'classifier__alpha': 0.01, 'tfidf__use_idf': False}\n",
      "Mean: 0.831657 Stdev:(0.007301) with: {'bow__min_df': 8, 'bow__ngram_range': (1, 3), 'classifier__alpha': 0.001, 'tfidf__use_idf': True}\n",
      "Mean: 0.831953 Stdev:(0.008656) with: {'bow__min_df': 8, 'bow__ngram_range': (1, 3), 'classifier__alpha': 0.001, 'tfidf__use_idf': False}\n",
      "Mean: 0.832544 Stdev:(0.008070) with: {'bow__min_df': 9, 'bow__ngram_range': (1, 1), 'classifier__alpha': 0.1, 'tfidf__use_idf': True}\n",
      "Mean: 0.832840 Stdev:(0.009285) with: {'bow__min_df': 9, 'bow__ngram_range': (1, 1), 'classifier__alpha': 0.1, 'tfidf__use_idf': False}\n",
      "Mean: 0.831361 Stdev:(0.007247) with: {'bow__min_df': 9, 'bow__ngram_range': (1, 1), 'classifier__alpha': 0.01, 'tfidf__use_idf': True}\n",
      "Mean: 0.831361 Stdev:(0.009262) with: {'bow__min_df': 9, 'bow__ngram_range': (1, 1), 'classifier__alpha': 0.01, 'tfidf__use_idf': False}\n",
      "Mean: 0.831065 Stdev:(0.007537) with: {'bow__min_df': 9, 'bow__ngram_range': (1, 1), 'classifier__alpha': 0.001, 'tfidf__use_idf': True}\n",
      "Mean: 0.830769 Stdev:(0.009523) with: {'bow__min_df': 9, 'bow__ngram_range': (1, 1), 'classifier__alpha': 0.001, 'tfidf__use_idf': False}\n",
      "Mean: 0.831657 Stdev:(0.010372) with: {'bow__min_df': 9, 'bow__ngram_range': (1, 2), 'classifier__alpha': 0.1, 'tfidf__use_idf': True}\n",
      "Mean: 0.833432 Stdev:(0.010834) with: {'bow__min_df': 9, 'bow__ngram_range': (1, 2), 'classifier__alpha': 0.1, 'tfidf__use_idf': False}\n",
      "Mean: 0.833432 Stdev:(0.008580) with: {'bow__min_df': 9, 'bow__ngram_range': (1, 2), 'classifier__alpha': 0.01, 'tfidf__use_idf': True}\n",
      "Mean: 0.833432 Stdev:(0.010422) with: {'bow__min_df': 9, 'bow__ngram_range': (1, 2), 'classifier__alpha': 0.01, 'tfidf__use_idf': False}\n",
      "Mean: 0.831657 Stdev:(0.008920) with: {'bow__min_df': 9, 'bow__ngram_range': (1, 2), 'classifier__alpha': 0.001, 'tfidf__use_idf': True}\n",
      "Mean: 0.832249 Stdev:(0.010834) with: {'bow__min_df': 9, 'bow__ngram_range': (1, 2), 'classifier__alpha': 0.001, 'tfidf__use_idf': False}\n",
      "Mean: 0.831657 Stdev:(0.010287) with: {'bow__min_df': 9, 'bow__ngram_range': (1, 3), 'classifier__alpha': 0.1, 'tfidf__use_idf': True}\n",
      "Mean: 0.833728 Stdev:(0.010485) with: {'bow__min_df': 9, 'bow__ngram_range': (1, 3), 'classifier__alpha': 0.1, 'tfidf__use_idf': False}\n",
      "Mean: 0.833136 Stdev:(0.008696) with: {'bow__min_df': 9, 'bow__ngram_range': (1, 3), 'classifier__alpha': 0.01, 'tfidf__use_idf': True}\n",
      "Mean: 0.833728 Stdev:(0.010485) with: {'bow__min_df': 9, 'bow__ngram_range': (1, 3), 'classifier__alpha': 0.01, 'tfidf__use_idf': False}\n",
      "Mean: 0.831361 Stdev:(0.008974) with: {'bow__min_df': 9, 'bow__ngram_range': (1, 3), 'classifier__alpha': 0.001, 'tfidf__use_idf': True}\n",
      "Mean: 0.832544 Stdev:(0.010927) with: {'bow__min_df': 9, 'bow__ngram_range': (1, 3), 'classifier__alpha': 0.001, 'tfidf__use_idf': False}\n",
      "Mean: 0.829586 Stdev:(0.008493) with: {'bow__min_df': 10, 'bow__ngram_range': (1, 1), 'classifier__alpha': 0.1, 'tfidf__use_idf': True}\n",
      "Mean: 0.830769 Stdev:(0.009705) with: {'bow__min_df': 10, 'bow__ngram_range': (1, 1), 'classifier__alpha': 0.1, 'tfidf__use_idf': False}\n",
      "Mean: 0.828698 Stdev:(0.007652) with: {'bow__min_df': 10, 'bow__ngram_range': (1, 1), 'classifier__alpha': 0.01, 'tfidf__use_idf': True}\n",
      "Mean: 0.830473 Stdev:(0.009817) with: {'bow__min_df': 10, 'bow__ngram_range': (1, 1), 'classifier__alpha': 0.01, 'tfidf__use_idf': False}\n",
      "Mean: 0.828402 Stdev:(0.008048) with: {'bow__min_df': 10, 'bow__ngram_range': (1, 1), 'classifier__alpha': 0.001, 'tfidf__use_idf': True}\n",
      "Mean: 0.829882 Stdev:(0.010185) with: {'bow__min_df': 10, 'bow__ngram_range': (1, 1), 'classifier__alpha': 0.001, 'tfidf__use_idf': False}\n",
      "Mean: 0.831065 Stdev:(0.009941) with: {'bow__min_df': 10, 'bow__ngram_range': (1, 2), 'classifier__alpha': 0.1, 'tfidf__use_idf': True}\n",
      "Mean: 0.832249 Stdev:(0.010671) with: {'bow__min_df': 10, 'bow__ngram_range': (1, 2), 'classifier__alpha': 0.1, 'tfidf__use_idf': False}\n",
      "Mean: 0.832840 Stdev:(0.008183) with: {'bow__min_df': 10, 'bow__ngram_range': (1, 2), 'classifier__alpha': 0.01, 'tfidf__use_idf': True}\n",
      "Mean: 0.831361 Stdev:(0.009989) with: {'bow__min_df': 10, 'bow__ngram_range': (1, 2), 'classifier__alpha': 0.01, 'tfidf__use_idf': False}\n",
      "Mean: 0.831657 Stdev:(0.009210) with: {'bow__min_df': 10, 'bow__ngram_range': (1, 2), 'classifier__alpha': 0.001, 'tfidf__use_idf': True}\n",
      "Mean: 0.831361 Stdev:(0.011459) with: {'bow__min_df': 10, 'bow__ngram_range': (1, 2), 'classifier__alpha': 0.001, 'tfidf__use_idf': False}\n",
      "Mean: 0.829882 Stdev:(0.010523) with: {'bow__min_df': 10, 'bow__ngram_range': (1, 3), 'classifier__alpha': 0.1, 'tfidf__use_idf': True}\n",
      "Mean: 0.832544 Stdev:(0.010266) with: {'bow__min_df': 10, 'bow__ngram_range': (1, 3), 'classifier__alpha': 0.1, 'tfidf__use_idf': False}\n",
      "Mean: 0.832544 Stdev:(0.008070) with: {'bow__min_df': 10, 'bow__ngram_range': (1, 3), 'classifier__alpha': 0.01, 'tfidf__use_idf': True}\n",
      "Mean: 0.831953 Stdev:(0.010317) with: {'bow__min_df': 10, 'bow__ngram_range': (1, 3), 'classifier__alpha': 0.01, 'tfidf__use_idf': False}\n",
      "Mean: 0.831361 Stdev:(0.009071) with: {'bow__min_df': 10, 'bow__ngram_range': (1, 3), 'classifier__alpha': 0.001, 'tfidf__use_idf': True}\n",
      "Mean: 0.831953 Stdev:(0.011745) with: {'bow__min_df': 10, 'bow__ngram_range': (1, 3), 'classifier__alpha': 0.001, 'tfidf__use_idf': False}\n"
     ]
    }
   ],
   "source": [
    "X_train, X_test, y_train, y_test = train_test_split(df['teks'], df['label'], test_size=0.2, random_state=123)\n",
    "\n",
    "\n",
    "# create pipeline\n",
    "pipeline = Pipeline([\n",
    "    ('bow', CountVectorizer(strip_accents='ascii',\n",
    "                            lowercase=True)),  # strings to token integer counts\n",
    "    ('tfidf', TfidfTransformer()),  # integer counts to weighted TF-IDF scores\n",
    "    ('classifier', MultinomialNB()),  # train on TF-IDF vectors w/ Naive Bayes classifier\n",
    "])\n",
    "\n",
    "# this is where we define the values for GridSearchCV to iterate over\n",
    "parameters = {'bow__ngram_range': [(1, 1), (1, 2), (1,3)],\n",
    "               'bow__min_df':(2,3,4,5,6,7,8,9,10),\n",
    "              'tfidf__use_idf': (True, False),\n",
    "              'classifier__alpha': (1e-1, 1e-2, 1e-3),\n",
    "             }\n",
    "\n",
    "# do 10-fold cross validation for each of the 6 possible combinations of the above params\n",
    "grid = GridSearchCV(pipeline, cv=10, param_grid=parameters, verbose=1)\n",
    "grid.fit(X_train,y_train)\n",
    "\n",
    "# summarize results\n",
    "print(\"\\nBest Model: %f using %s\" % (grid.best_score_, grid.best_params_))\n",
    "print('\\n')\n",
    "means = grid.cv_results_['mean_test_score']\n",
    "stds = grid.cv_results_['std_test_score']\n",
    "params = grid.cv_results_['params']\n",
    "for mean, stdev, param in zip(means, stds, params):\n",
    "    print(\"Mean: %f Stdev:(%f) with: %r\" % (mean, stdev, param))"
   ]
  },
  {
   "cell_type": "code",
   "execution_count": 22,
   "metadata": {
    "colab": {
     "base_uri": "https://localhost:8080/",
     "height": 306
    },
    "id": "f3Z49S_WzG43",
    "outputId": "860893ce-75ea-4933-904a-c871eb4c44c1"
   },
   "outputs": [
    {
     "name": "stdout",
     "output_type": "stream",
     "text": [
      "accuracy score:  0.8522458628841607\n",
      "\n",
      "\n",
      "confusion matrix: \n",
      " [[ 33 114]\n",
      " [ 11 688]]\n",
      "\n",
      "\n",
      "              precision    recall  f1-score   support\n",
      "\n",
      "           0       0.75      0.22      0.35       147\n",
      "           1       0.86      0.98      0.92       699\n",
      "\n",
      "    accuracy                           0.85       846\n",
      "   macro avg       0.80      0.60      0.63       846\n",
      "weighted avg       0.84      0.85      0.82       846\n",
      "\n"
     ]
    }
   ],
   "source": [
    "# save best model to current working directory\n",
    "joblib.dump(grid, \"model_NB.pkl\")\n",
    "# load from file and predict using the best configs found in the CV step\n",
    "model_NB = joblib.load(\"model_NB.pkl\" )\n",
    "\n",
    "# get predictions from best model above\n",
    "y_preds = model_NB.predict(X_test)\n",
    "\n",
    "print('accuracy score: ',accuracy_score(y_test, y_preds))\n",
    "print('\\n')\n",
    "print('confusion matrix: \\n',confusion_matrix(y_test,y_preds))\n",
    "print('\\n')\n",
    "print(classification_report(y_test, y_preds))"
   ]
  },
  {
   "cell_type": "code",
   "execution_count": null,
   "metadata": {
    "colab": {
     "base_uri": "https://localhost:8080/",
     "height": 443
    },
    "id": "ALfLYak_A-7d",
    "outputId": "327dfd09-7c8b-4526-bd1f-7cde4927a48f"
   },
   "outputs": [
    {
     "name": "stdout",
     "output_type": "stream",
     "text": [
      "1057    0\n",
      "2927    1\n",
      "569     1\n",
      "2121    1\n",
      "2667    0\n",
      "       ..\n",
      "4114    0\n",
      "3999    1\n",
      "2607    1\n",
      "2373    1\n",
      "1499    1\n",
      "Name: label, Length: 3380, dtype: int64\n",
      "1057    mudah mudahan masih banyak rakyat lugu yang ma...\n",
      "2927    orang ini telah meludahi quran dan mengencingi...\n",
      "569     surat pemberitahuan pengangkatan pns tanpa tes...\n",
      "2121    kejadian tadi siang jam embong malang sby keja...\n",
      "2667    aji pontianak gelar pelatihan anti hoaks rri a...\n",
      "                              ...                        \n",
      "4114    santunan duta besar china kepada pbnu dubes ch...\n",
      "3999    berita mengerikan akhirnya dibuka untuk publik...\n",
      "2607    bunga mahameru arya yang mekar 400 tahun sekal...\n",
      "2373    mobil pemuda yang berkelahi dengan lettu tni t...\n",
      "1499    suntik sebabkan kista ovarium hanya sekedar me...\n",
      "Name: teks, Length: 3380, dtype: object\n"
     ]
    }
   ],
   "source": [
    "print(y_train)\n",
    "print(X_train)"
   ]
  },
  {
   "cell_type": "markdown",
   "metadata": {
    "id": "AG54CPUiD3pk"
   },
   "source": [
    "Predict"
   ]
  },
  {
   "cell_type": "code",
   "execution_count": null,
   "metadata": {
    "colab": {
     "base_uri": "https://localhost:8080/",
     "height": 34
    },
    "id": "TIYdCcuvBGWL",
    "outputId": "1b4d8e6a-3d9d-4caf-e36e-06c15ffa250f"
   },
   "outputs": [
    {
     "data": {
      "text/plain": [
       "(4226, 5)"
      ]
     },
     "execution_count": 24,
     "metadata": {
      "tags": []
     },
     "output_type": "execute_result"
    }
   ],
   "source": [
    "# run predictions on twitter data\n",
    "teks_preds = model_NB.predict(df['teks'])\n",
    "\n",
    "# append predictions to dataframe\n",
    "df_teks_preds = df.copy()\n",
    "df_teks_preds['predictions'] = teks_preds\n",
    "df_teks_preds.shape"
   ]
  },
  {
   "cell_type": "code",
   "execution_count": null,
   "metadata": {
    "colab": {
     "base_uri": "https://localhost:8080/",
     "height": 406
    },
    "id": "EZkD2zsmC-7N",
    "outputId": "60fd1723-7fb5-481a-fac7-e07b91b57d0d"
   },
   "outputs": [
    {
     "data": {
      "text/html": [
       "<div>\n",
       "<style scoped>\n",
       "    .dataframe tbody tr th:only-of-type {\n",
       "        vertical-align: middle;\n",
       "    }\n",
       "\n",
       "    .dataframe tbody tr th {\n",
       "        vertical-align: top;\n",
       "    }\n",
       "\n",
       "    .dataframe thead th {\n",
       "        text-align: right;\n",
       "    }\n",
       "</style>\n",
       "<table border=\"1\" class=\"dataframe\">\n",
       "  <thead>\n",
       "    <tr style=\"text-align: right;\">\n",
       "      <th></th>\n",
       "      <th>ID</th>\n",
       "      <th>label</th>\n",
       "      <th>teks</th>\n",
       "      <th>tokens</th>\n",
       "      <th>predictions</th>\n",
       "    </tr>\n",
       "  </thead>\n",
       "  <tbody>\n",
       "    <tr>\n",
       "      <th>0</th>\n",
       "      <td>71</td>\n",
       "      <td>1</td>\n",
       "      <td>pemakaian masker menyebabkan penyakit legionna...</td>\n",
       "      <td>[pemakaian, masker, menyebabkan, penyakit, leg...</td>\n",
       "      <td>1</td>\n",
       "    </tr>\n",
       "    <tr>\n",
       "      <th>1</th>\n",
       "      <td>461</td>\n",
       "      <td>1</td>\n",
       "      <td>instruksi gubernur jateng tentang penilangan b...</td>\n",
       "      <td>[instruksi, gubernur, jateng, penilangan, berm...</td>\n",
       "      <td>1</td>\n",
       "    </tr>\n",
       "    <tr>\n",
       "      <th>2</th>\n",
       "      <td>495</td>\n",
       "      <td>1</td>\n",
       "      <td>foto jim rohn jokowi adalah presiden terbaik d...</td>\n",
       "      <td>[foto, jim, rohn, jokowi, presiden, terbaik, d...</td>\n",
       "      <td>1</td>\n",
       "    </tr>\n",
       "    <tr>\n",
       "      <th>3</th>\n",
       "      <td>550</td>\n",
       "      <td>1</td>\n",
       "      <td>ini bukan politik tapi kenyataan pak jokowi be...</td>\n",
       "      <td>[politik, kenyataan, jokowi, berhasil, memulan...</td>\n",
       "      <td>1</td>\n",
       "    </tr>\n",
       "    <tr>\n",
       "      <th>4</th>\n",
       "      <td>681</td>\n",
       "      <td>1</td>\n",
       "      <td>foto kadrun kalo lihat foto ini panas dingin k...</td>\n",
       "      <td>[foto, kadrun, kalo, lihat, foto, panas, dingi...</td>\n",
       "      <td>1</td>\n",
       "    </tr>\n",
       "    <tr>\n",
       "      <th>...</th>\n",
       "      <td>...</td>\n",
       "      <td>...</td>\n",
       "      <td>...</td>\n",
       "      <td>...</td>\n",
       "      <td>...</td>\n",
       "    </tr>\n",
       "    <tr>\n",
       "      <th>4226</th>\n",
       "      <td>999287</td>\n",
       "      <td>1</td>\n",
       "      <td>kpk dilarang membawa brimob bersenjata masuk g...</td>\n",
       "      <td>[kpk, dilarang, membawa, brimob, bersenjata, m...</td>\n",
       "      <td>1</td>\n",
       "    </tr>\n",
       "    <tr>\n",
       "      <th>4227</th>\n",
       "      <td>999472</td>\n",
       "      <td>1</td>\n",
       "      <td>foto pejabat keuangan dibawah palu arit jangan...</td>\n",
       "      <td>[foto, pejabat, keuangan, dibawah, palu, arit,...</td>\n",
       "      <td>1</td>\n",
       "    </tr>\n",
       "    <tr>\n",
       "      <th>4228</th>\n",
       "      <td>999501</td>\n",
       "      <td>1</td>\n",
       "      <td>gambar denny siregar musuh warga tasikmalaya b...</td>\n",
       "      <td>[gambar, denny, siregar, musuh, warga, tasikma...</td>\n",
       "      <td>1</td>\n",
       "    </tr>\n",
       "    <tr>\n",
       "      <th>4229</th>\n",
       "      <td>999848</td>\n",
       "      <td>1</td>\n",
       "      <td>kaesang bapak saya dengan kesederhaan bisa nip...</td>\n",
       "      <td>[kaesang, kesederhaan, nipu, rakyat, indonesia...</td>\n",
       "      <td>1</td>\n",
       "    </tr>\n",
       "    <tr>\n",
       "      <th>4230</th>\n",
       "      <td>999860</td>\n",
       "      <td>1</td>\n",
       "      <td>laser dari termometer gun akan merusak struktu...</td>\n",
       "      <td>[laser, termometer, gun, merusak, struktur, ot...</td>\n",
       "      <td>1</td>\n",
       "    </tr>\n",
       "  </tbody>\n",
       "</table>\n",
       "<p>4226 rows × 5 columns</p>\n",
       "</div>"
      ],
      "text/plain": [
       "          ID  ...  predictions\n",
       "0         71  ...            1\n",
       "1        461  ...            1\n",
       "2        495  ...            1\n",
       "3        550  ...            1\n",
       "4        681  ...            1\n",
       "...      ...  ...          ...\n",
       "4226  999287  ...            1\n",
       "4227  999472  ...            1\n",
       "4228  999501  ...            1\n",
       "4229  999848  ...            1\n",
       "4230  999860  ...            1\n",
       "\n",
       "[4226 rows x 5 columns]"
      ]
     },
     "execution_count": 25,
     "metadata": {
      "tags": []
     },
     "output_type": "execute_result"
    }
   ],
   "source": [
    "df_teks_preds"
   ]
  },
  {
   "cell_type": "code",
   "execution_count": null,
   "metadata": {
    "id": "5lIkL_ABIXXY"
   },
   "outputs": [],
   "source": [
    "df_teks_preds.to_excel('/content/drive/My Drive/predict data latih.xlsx', index=False)"
   ]
  },
  {
   "cell_type": "code",
   "execution_count": null,
   "metadata": {
    "colab": {
     "base_uri": "https://localhost:8080/",
     "height": 34
    },
    "id": "O3YD0BNgDKUG",
    "outputId": "9c1c55a1-cb82-46ef-d4c8-cc60c8e62894"
   },
   "outputs": [
    {
     "name": "stdout",
     "output_type": "stream",
     "text": [
      "Model predictions: Positives - 3558, Negatives - 668\n"
     ]
    }
   ],
   "source": [
    "pos = df_teks_preds.predictions.value_counts()[0]\n",
    "neg = df_teks_preds.predictions.value_counts()[1]\n",
    "\n",
    "print('Model predictions: Positives - {}, Negatives - {}'.format(neg,pos))"
   ]
  },
  {
   "cell_type": "code",
   "execution_count": null,
   "metadata": {
    "colab": {
     "base_uri": "https://localhost:8080/",
     "height": 542
    },
    "id": "sDeoPFq2DS7u",
    "outputId": "5f338c36-c20d-48e2-de16-33f08c1d4f31"
   },
   "outputs": [
    {
     "data": {
      "application/vnd.plotly.v1+json": {
       "config": {
        "linkText": "Export to plot.ly",
        "plotlyServerURL": "https://plot.ly",
        "showLink": false
       },
       "data": [
        {
         "labels": [
          "Positif",
          "Negatif"
         ],
         "type": "pie",
         "values": [
          668,
          3558
         ]
        }
       ],
       "layout": {
        "template": {
         "data": {
          "bar": [
           {
            "error_x": {
             "color": "#2a3f5f"
            },
            "error_y": {
             "color": "#2a3f5f"
            },
            "marker": {
             "line": {
              "color": "#E5ECF6",
              "width": 0.5
             }
            },
            "type": "bar"
           }
          ],
          "barpolar": [
           {
            "marker": {
             "line": {
              "color": "#E5ECF6",
              "width": 0.5
             }
            },
            "type": "barpolar"
           }
          ],
          "carpet": [
           {
            "aaxis": {
             "endlinecolor": "#2a3f5f",
             "gridcolor": "white",
             "linecolor": "white",
             "minorgridcolor": "white",
             "startlinecolor": "#2a3f5f"
            },
            "baxis": {
             "endlinecolor": "#2a3f5f",
             "gridcolor": "white",
             "linecolor": "white",
             "minorgridcolor": "white",
             "startlinecolor": "#2a3f5f"
            },
            "type": "carpet"
           }
          ],
          "choropleth": [
           {
            "colorbar": {
             "outlinewidth": 0,
             "ticks": ""
            },
            "type": "choropleth"
           }
          ],
          "contour": [
           {
            "colorbar": {
             "outlinewidth": 0,
             "ticks": ""
            },
            "colorscale": [
             [
              0,
              "#0d0887"
             ],
             [
              0.1111111111111111,
              "#46039f"
             ],
             [
              0.2222222222222222,
              "#7201a8"
             ],
             [
              0.3333333333333333,
              "#9c179e"
             ],
             [
              0.4444444444444444,
              "#bd3786"
             ],
             [
              0.5555555555555556,
              "#d8576b"
             ],
             [
              0.6666666666666666,
              "#ed7953"
             ],
             [
              0.7777777777777778,
              "#fb9f3a"
             ],
             [
              0.8888888888888888,
              "#fdca26"
             ],
             [
              1,
              "#f0f921"
             ]
            ],
            "type": "contour"
           }
          ],
          "contourcarpet": [
           {
            "colorbar": {
             "outlinewidth": 0,
             "ticks": ""
            },
            "type": "contourcarpet"
           }
          ],
          "heatmap": [
           {
            "colorbar": {
             "outlinewidth": 0,
             "ticks": ""
            },
            "colorscale": [
             [
              0,
              "#0d0887"
             ],
             [
              0.1111111111111111,
              "#46039f"
             ],
             [
              0.2222222222222222,
              "#7201a8"
             ],
             [
              0.3333333333333333,
              "#9c179e"
             ],
             [
              0.4444444444444444,
              "#bd3786"
             ],
             [
              0.5555555555555556,
              "#d8576b"
             ],
             [
              0.6666666666666666,
              "#ed7953"
             ],
             [
              0.7777777777777778,
              "#fb9f3a"
             ],
             [
              0.8888888888888888,
              "#fdca26"
             ],
             [
              1,
              "#f0f921"
             ]
            ],
            "type": "heatmap"
           }
          ],
          "heatmapgl": [
           {
            "colorbar": {
             "outlinewidth": 0,
             "ticks": ""
            },
            "colorscale": [
             [
              0,
              "#0d0887"
             ],
             [
              0.1111111111111111,
              "#46039f"
             ],
             [
              0.2222222222222222,
              "#7201a8"
             ],
             [
              0.3333333333333333,
              "#9c179e"
             ],
             [
              0.4444444444444444,
              "#bd3786"
             ],
             [
              0.5555555555555556,
              "#d8576b"
             ],
             [
              0.6666666666666666,
              "#ed7953"
             ],
             [
              0.7777777777777778,
              "#fb9f3a"
             ],
             [
              0.8888888888888888,
              "#fdca26"
             ],
             [
              1,
              "#f0f921"
             ]
            ],
            "type": "heatmapgl"
           }
          ],
          "histogram": [
           {
            "marker": {
             "colorbar": {
              "outlinewidth": 0,
              "ticks": ""
             }
            },
            "type": "histogram"
           }
          ],
          "histogram2d": [
           {
            "colorbar": {
             "outlinewidth": 0,
             "ticks": ""
            },
            "colorscale": [
             [
              0,
              "#0d0887"
             ],
             [
              0.1111111111111111,
              "#46039f"
             ],
             [
              0.2222222222222222,
              "#7201a8"
             ],
             [
              0.3333333333333333,
              "#9c179e"
             ],
             [
              0.4444444444444444,
              "#bd3786"
             ],
             [
              0.5555555555555556,
              "#d8576b"
             ],
             [
              0.6666666666666666,
              "#ed7953"
             ],
             [
              0.7777777777777778,
              "#fb9f3a"
             ],
             [
              0.8888888888888888,
              "#fdca26"
             ],
             [
              1,
              "#f0f921"
             ]
            ],
            "type": "histogram2d"
           }
          ],
          "histogram2dcontour": [
           {
            "colorbar": {
             "outlinewidth": 0,
             "ticks": ""
            },
            "colorscale": [
             [
              0,
              "#0d0887"
             ],
             [
              0.1111111111111111,
              "#46039f"
             ],
             [
              0.2222222222222222,
              "#7201a8"
             ],
             [
              0.3333333333333333,
              "#9c179e"
             ],
             [
              0.4444444444444444,
              "#bd3786"
             ],
             [
              0.5555555555555556,
              "#d8576b"
             ],
             [
              0.6666666666666666,
              "#ed7953"
             ],
             [
              0.7777777777777778,
              "#fb9f3a"
             ],
             [
              0.8888888888888888,
              "#fdca26"
             ],
             [
              1,
              "#f0f921"
             ]
            ],
            "type": "histogram2dcontour"
           }
          ],
          "mesh3d": [
           {
            "colorbar": {
             "outlinewidth": 0,
             "ticks": ""
            },
            "type": "mesh3d"
           }
          ],
          "parcoords": [
           {
            "line": {
             "colorbar": {
              "outlinewidth": 0,
              "ticks": ""
             }
            },
            "type": "parcoords"
           }
          ],
          "pie": [
           {
            "automargin": true,
            "type": "pie"
           }
          ],
          "scatter": [
           {
            "marker": {
             "colorbar": {
              "outlinewidth": 0,
              "ticks": ""
             }
            },
            "type": "scatter"
           }
          ],
          "scatter3d": [
           {
            "line": {
             "colorbar": {
              "outlinewidth": 0,
              "ticks": ""
             }
            },
            "marker": {
             "colorbar": {
              "outlinewidth": 0,
              "ticks": ""
             }
            },
            "type": "scatter3d"
           }
          ],
          "scattercarpet": [
           {
            "marker": {
             "colorbar": {
              "outlinewidth": 0,
              "ticks": ""
             }
            },
            "type": "scattercarpet"
           }
          ],
          "scattergeo": [
           {
            "marker": {
             "colorbar": {
              "outlinewidth": 0,
              "ticks": ""
             }
            },
            "type": "scattergeo"
           }
          ],
          "scattergl": [
           {
            "marker": {
             "colorbar": {
              "outlinewidth": 0,
              "ticks": ""
             }
            },
            "type": "scattergl"
           }
          ],
          "scattermapbox": [
           {
            "marker": {
             "colorbar": {
              "outlinewidth": 0,
              "ticks": ""
             }
            },
            "type": "scattermapbox"
           }
          ],
          "scatterpolar": [
           {
            "marker": {
             "colorbar": {
              "outlinewidth": 0,
              "ticks": ""
             }
            },
            "type": "scatterpolar"
           }
          ],
          "scatterpolargl": [
           {
            "marker": {
             "colorbar": {
              "outlinewidth": 0,
              "ticks": ""
             }
            },
            "type": "scatterpolargl"
           }
          ],
          "scatterternary": [
           {
            "marker": {
             "colorbar": {
              "outlinewidth": 0,
              "ticks": ""
             }
            },
            "type": "scatterternary"
           }
          ],
          "surface": [
           {
            "colorbar": {
             "outlinewidth": 0,
             "ticks": ""
            },
            "colorscale": [
             [
              0,
              "#0d0887"
             ],
             [
              0.1111111111111111,
              "#46039f"
             ],
             [
              0.2222222222222222,
              "#7201a8"
             ],
             [
              0.3333333333333333,
              "#9c179e"
             ],
             [
              0.4444444444444444,
              "#bd3786"
             ],
             [
              0.5555555555555556,
              "#d8576b"
             ],
             [
              0.6666666666666666,
              "#ed7953"
             ],
             [
              0.7777777777777778,
              "#fb9f3a"
             ],
             [
              0.8888888888888888,
              "#fdca26"
             ],
             [
              1,
              "#f0f921"
             ]
            ],
            "type": "surface"
           }
          ],
          "table": [
           {
            "cells": {
             "fill": {
              "color": "#EBF0F8"
             },
             "line": {
              "color": "white"
             }
            },
            "header": {
             "fill": {
              "color": "#C8D4E3"
             },
             "line": {
              "color": "white"
             }
            },
            "type": "table"
           }
          ]
         },
         "layout": {
          "annotationdefaults": {
           "arrowcolor": "#2a3f5f",
           "arrowhead": 0,
           "arrowwidth": 1
          },
          "coloraxis": {
           "colorbar": {
            "outlinewidth": 0,
            "ticks": ""
           }
          },
          "colorscale": {
           "diverging": [
            [
             0,
             "#8e0152"
            ],
            [
             0.1,
             "#c51b7d"
            ],
            [
             0.2,
             "#de77ae"
            ],
            [
             0.3,
             "#f1b6da"
            ],
            [
             0.4,
             "#fde0ef"
            ],
            [
             0.5,
             "#f7f7f7"
            ],
            [
             0.6,
             "#e6f5d0"
            ],
            [
             0.7,
             "#b8e186"
            ],
            [
             0.8,
             "#7fbc41"
            ],
            [
             0.9,
             "#4d9221"
            ],
            [
             1,
             "#276419"
            ]
           ],
           "sequential": [
            [
             0,
             "#0d0887"
            ],
            [
             0.1111111111111111,
             "#46039f"
            ],
            [
             0.2222222222222222,
             "#7201a8"
            ],
            [
             0.3333333333333333,
             "#9c179e"
            ],
            [
             0.4444444444444444,
             "#bd3786"
            ],
            [
             0.5555555555555556,
             "#d8576b"
            ],
            [
             0.6666666666666666,
             "#ed7953"
            ],
            [
             0.7777777777777778,
             "#fb9f3a"
            ],
            [
             0.8888888888888888,
             "#fdca26"
            ],
            [
             1,
             "#f0f921"
            ]
           ],
           "sequentialminus": [
            [
             0,
             "#0d0887"
            ],
            [
             0.1111111111111111,
             "#46039f"
            ],
            [
             0.2222222222222222,
             "#7201a8"
            ],
            [
             0.3333333333333333,
             "#9c179e"
            ],
            [
             0.4444444444444444,
             "#bd3786"
            ],
            [
             0.5555555555555556,
             "#d8576b"
            ],
            [
             0.6666666666666666,
             "#ed7953"
            ],
            [
             0.7777777777777778,
             "#fb9f3a"
            ],
            [
             0.8888888888888888,
             "#fdca26"
            ],
            [
             1,
             "#f0f921"
            ]
           ]
          },
          "colorway": [
           "#636efa",
           "#EF553B",
           "#00cc96",
           "#ab63fa",
           "#FFA15A",
           "#19d3f3",
           "#FF6692",
           "#B6E880",
           "#FF97FF",
           "#FECB52"
          ],
          "font": {
           "color": "#2a3f5f"
          },
          "geo": {
           "bgcolor": "white",
           "lakecolor": "white",
           "landcolor": "#E5ECF6",
           "showlakes": true,
           "showland": true,
           "subunitcolor": "white"
          },
          "hoverlabel": {
           "align": "left"
          },
          "hovermode": "closest",
          "mapbox": {
           "style": "light"
          },
          "paper_bgcolor": "white",
          "plot_bgcolor": "#E5ECF6",
          "polar": {
           "angularaxis": {
            "gridcolor": "white",
            "linecolor": "white",
            "ticks": ""
           },
           "bgcolor": "#E5ECF6",
           "radialaxis": {
            "gridcolor": "white",
            "linecolor": "white",
            "ticks": ""
           }
          },
          "scene": {
           "xaxis": {
            "backgroundcolor": "#E5ECF6",
            "gridcolor": "white",
            "gridwidth": 2,
            "linecolor": "white",
            "showbackground": true,
            "ticks": "",
            "zerolinecolor": "white"
           },
           "yaxis": {
            "backgroundcolor": "#E5ECF6",
            "gridcolor": "white",
            "gridwidth": 2,
            "linecolor": "white",
            "showbackground": true,
            "ticks": "",
            "zerolinecolor": "white"
           },
           "zaxis": {
            "backgroundcolor": "#E5ECF6",
            "gridcolor": "white",
            "gridwidth": 2,
            "linecolor": "white",
            "showbackground": true,
            "ticks": "",
            "zerolinecolor": "white"
           }
          },
          "shapedefaults": {
           "line": {
            "color": "#2a3f5f"
           }
          },
          "ternary": {
           "aaxis": {
            "gridcolor": "white",
            "linecolor": "white",
            "ticks": ""
           },
           "baxis": {
            "gridcolor": "white",
            "linecolor": "white",
            "ticks": ""
           },
           "bgcolor": "#E5ECF6",
           "caxis": {
            "gridcolor": "white",
            "linecolor": "white",
            "ticks": ""
           }
          },
          "title": {
           "x": 0.05
          },
          "xaxis": {
           "automargin": true,
           "gridcolor": "white",
           "linecolor": "white",
           "ticks": "",
           "title": {
            "standoff": 15
           },
           "zerolinecolor": "white",
           "zerolinewidth": 2
          },
          "yaxis": {
           "automargin": true,
           "gridcolor": "white",
           "linecolor": "white",
           "ticks": "",
           "title": {
            "standoff": 15
           },
           "zerolinecolor": "white",
           "zerolinewidth": 2
          }
         }
        }
       }
      },
      "text/html": [
       "<div>\n",
       "        \n",
       "        \n",
       "            <div id=\"066f958f-f7b0-4f6f-ae68-a653bff65cdf\" class=\"plotly-graph-div\" style=\"height:525px; width:100%;\"></div>\n",
       "            <script type=\"text/javascript\">\n",
       "                require([\"plotly\"], function(Plotly) {\n",
       "                    window.PLOTLYENV=window.PLOTLYENV || {};\n",
       "                    \n",
       "                if (document.getElementById(\"066f958f-f7b0-4f6f-ae68-a653bff65cdf\")) {\n",
       "                    Plotly.newPlot(\n",
       "                        '066f958f-f7b0-4f6f-ae68-a653bff65cdf',\n",
       "                        [{\"labels\": [\"Positif\", \"Negatif\"], \"type\": \"pie\", \"values\": [668, 3558]}],\n",
       "                        {\"template\": {\"data\": {\"bar\": [{\"error_x\": {\"color\": \"#2a3f5f\"}, \"error_y\": {\"color\": \"#2a3f5f\"}, \"marker\": {\"line\": {\"color\": \"#E5ECF6\", \"width\": 0.5}}, \"type\": \"bar\"}], \"barpolar\": [{\"marker\": {\"line\": {\"color\": \"#E5ECF6\", \"width\": 0.5}}, \"type\": \"barpolar\"}], \"carpet\": [{\"aaxis\": {\"endlinecolor\": \"#2a3f5f\", \"gridcolor\": \"white\", \"linecolor\": \"white\", \"minorgridcolor\": \"white\", \"startlinecolor\": \"#2a3f5f\"}, \"baxis\": {\"endlinecolor\": \"#2a3f5f\", \"gridcolor\": \"white\", \"linecolor\": \"white\", \"minorgridcolor\": \"white\", \"startlinecolor\": \"#2a3f5f\"}, \"type\": \"carpet\"}], \"choropleth\": [{\"colorbar\": {\"outlinewidth\": 0, \"ticks\": \"\"}, \"type\": \"choropleth\"}], \"contour\": [{\"colorbar\": {\"outlinewidth\": 0, \"ticks\": \"\"}, \"colorscale\": [[0.0, \"#0d0887\"], [0.1111111111111111, \"#46039f\"], [0.2222222222222222, \"#7201a8\"], [0.3333333333333333, \"#9c179e\"], [0.4444444444444444, \"#bd3786\"], [0.5555555555555556, \"#d8576b\"], [0.6666666666666666, \"#ed7953\"], [0.7777777777777778, \"#fb9f3a\"], [0.8888888888888888, \"#fdca26\"], [1.0, \"#f0f921\"]], \"type\": \"contour\"}], \"contourcarpet\": [{\"colorbar\": {\"outlinewidth\": 0, \"ticks\": \"\"}, \"type\": \"contourcarpet\"}], \"heatmap\": [{\"colorbar\": {\"outlinewidth\": 0, \"ticks\": \"\"}, \"colorscale\": [[0.0, \"#0d0887\"], [0.1111111111111111, \"#46039f\"], [0.2222222222222222, \"#7201a8\"], [0.3333333333333333, \"#9c179e\"], [0.4444444444444444, \"#bd3786\"], [0.5555555555555556, \"#d8576b\"], [0.6666666666666666, \"#ed7953\"], [0.7777777777777778, \"#fb9f3a\"], [0.8888888888888888, \"#fdca26\"], [1.0, \"#f0f921\"]], \"type\": \"heatmap\"}], \"heatmapgl\": [{\"colorbar\": {\"outlinewidth\": 0, \"ticks\": \"\"}, \"colorscale\": [[0.0, \"#0d0887\"], [0.1111111111111111, \"#46039f\"], [0.2222222222222222, \"#7201a8\"], [0.3333333333333333, \"#9c179e\"], [0.4444444444444444, \"#bd3786\"], [0.5555555555555556, \"#d8576b\"], [0.6666666666666666, \"#ed7953\"], [0.7777777777777778, \"#fb9f3a\"], [0.8888888888888888, \"#fdca26\"], [1.0, \"#f0f921\"]], \"type\": \"heatmapgl\"}], \"histogram\": [{\"marker\": {\"colorbar\": {\"outlinewidth\": 0, \"ticks\": \"\"}}, \"type\": \"histogram\"}], \"histogram2d\": [{\"colorbar\": {\"outlinewidth\": 0, \"ticks\": \"\"}, \"colorscale\": [[0.0, \"#0d0887\"], [0.1111111111111111, \"#46039f\"], [0.2222222222222222, \"#7201a8\"], [0.3333333333333333, \"#9c179e\"], [0.4444444444444444, \"#bd3786\"], [0.5555555555555556, \"#d8576b\"], [0.6666666666666666, \"#ed7953\"], [0.7777777777777778, \"#fb9f3a\"], [0.8888888888888888, \"#fdca26\"], [1.0, \"#f0f921\"]], \"type\": \"histogram2d\"}], \"histogram2dcontour\": [{\"colorbar\": {\"outlinewidth\": 0, \"ticks\": \"\"}, \"colorscale\": [[0.0, \"#0d0887\"], [0.1111111111111111, \"#46039f\"], [0.2222222222222222, \"#7201a8\"], [0.3333333333333333, \"#9c179e\"], [0.4444444444444444, \"#bd3786\"], [0.5555555555555556, \"#d8576b\"], [0.6666666666666666, \"#ed7953\"], [0.7777777777777778, \"#fb9f3a\"], [0.8888888888888888, \"#fdca26\"], [1.0, \"#f0f921\"]], \"type\": \"histogram2dcontour\"}], \"mesh3d\": [{\"colorbar\": {\"outlinewidth\": 0, \"ticks\": \"\"}, \"type\": \"mesh3d\"}], \"parcoords\": [{\"line\": {\"colorbar\": {\"outlinewidth\": 0, \"ticks\": \"\"}}, \"type\": \"parcoords\"}], \"pie\": [{\"automargin\": true, \"type\": \"pie\"}], \"scatter\": [{\"marker\": {\"colorbar\": {\"outlinewidth\": 0, \"ticks\": \"\"}}, \"type\": \"scatter\"}], \"scatter3d\": [{\"line\": {\"colorbar\": {\"outlinewidth\": 0, \"ticks\": \"\"}}, \"marker\": {\"colorbar\": {\"outlinewidth\": 0, \"ticks\": \"\"}}, \"type\": \"scatter3d\"}], \"scattercarpet\": [{\"marker\": {\"colorbar\": {\"outlinewidth\": 0, \"ticks\": \"\"}}, \"type\": \"scattercarpet\"}], \"scattergeo\": [{\"marker\": {\"colorbar\": {\"outlinewidth\": 0, \"ticks\": \"\"}}, \"type\": \"scattergeo\"}], \"scattergl\": [{\"marker\": {\"colorbar\": {\"outlinewidth\": 0, \"ticks\": \"\"}}, \"type\": \"scattergl\"}], \"scattermapbox\": [{\"marker\": {\"colorbar\": {\"outlinewidth\": 0, \"ticks\": \"\"}}, \"type\": \"scattermapbox\"}], \"scatterpolar\": [{\"marker\": {\"colorbar\": {\"outlinewidth\": 0, \"ticks\": \"\"}}, \"type\": \"scatterpolar\"}], \"scatterpolargl\": [{\"marker\": {\"colorbar\": {\"outlinewidth\": 0, \"ticks\": \"\"}}, \"type\": \"scatterpolargl\"}], \"scatterternary\": [{\"marker\": {\"colorbar\": {\"outlinewidth\": 0, \"ticks\": \"\"}}, \"type\": \"scatterternary\"}], \"surface\": [{\"colorbar\": {\"outlinewidth\": 0, \"ticks\": \"\"}, \"colorscale\": [[0.0, \"#0d0887\"], [0.1111111111111111, \"#46039f\"], [0.2222222222222222, \"#7201a8\"], [0.3333333333333333, \"#9c179e\"], [0.4444444444444444, \"#bd3786\"], [0.5555555555555556, \"#d8576b\"], [0.6666666666666666, \"#ed7953\"], [0.7777777777777778, \"#fb9f3a\"], [0.8888888888888888, \"#fdca26\"], [1.0, \"#f0f921\"]], \"type\": \"surface\"}], \"table\": [{\"cells\": {\"fill\": {\"color\": \"#EBF0F8\"}, \"line\": {\"color\": \"white\"}}, \"header\": {\"fill\": {\"color\": \"#C8D4E3\"}, \"line\": {\"color\": \"white\"}}, \"type\": \"table\"}]}, \"layout\": {\"annotationdefaults\": {\"arrowcolor\": \"#2a3f5f\", \"arrowhead\": 0, \"arrowwidth\": 1}, \"coloraxis\": {\"colorbar\": {\"outlinewidth\": 0, \"ticks\": \"\"}}, \"colorscale\": {\"diverging\": [[0, \"#8e0152\"], [0.1, \"#c51b7d\"], [0.2, \"#de77ae\"], [0.3, \"#f1b6da\"], [0.4, \"#fde0ef\"], [0.5, \"#f7f7f7\"], [0.6, \"#e6f5d0\"], [0.7, \"#b8e186\"], [0.8, \"#7fbc41\"], [0.9, \"#4d9221\"], [1, \"#276419\"]], \"sequential\": [[0.0, \"#0d0887\"], [0.1111111111111111, \"#46039f\"], [0.2222222222222222, \"#7201a8\"], [0.3333333333333333, \"#9c179e\"], [0.4444444444444444, \"#bd3786\"], [0.5555555555555556, \"#d8576b\"], [0.6666666666666666, \"#ed7953\"], [0.7777777777777778, \"#fb9f3a\"], [0.8888888888888888, \"#fdca26\"], [1.0, \"#f0f921\"]], \"sequentialminus\": [[0.0, \"#0d0887\"], [0.1111111111111111, \"#46039f\"], [0.2222222222222222, \"#7201a8\"], [0.3333333333333333, \"#9c179e\"], [0.4444444444444444, \"#bd3786\"], [0.5555555555555556, \"#d8576b\"], [0.6666666666666666, \"#ed7953\"], [0.7777777777777778, \"#fb9f3a\"], [0.8888888888888888, \"#fdca26\"], [1.0, \"#f0f921\"]]}, \"colorway\": [\"#636efa\", \"#EF553B\", \"#00cc96\", \"#ab63fa\", \"#FFA15A\", \"#19d3f3\", \"#FF6692\", \"#B6E880\", \"#FF97FF\", \"#FECB52\"], \"font\": {\"color\": \"#2a3f5f\"}, \"geo\": {\"bgcolor\": \"white\", \"lakecolor\": \"white\", \"landcolor\": \"#E5ECF6\", \"showlakes\": true, \"showland\": true, \"subunitcolor\": \"white\"}, \"hoverlabel\": {\"align\": \"left\"}, \"hovermode\": \"closest\", \"mapbox\": {\"style\": \"light\"}, \"paper_bgcolor\": \"white\", \"plot_bgcolor\": \"#E5ECF6\", \"polar\": {\"angularaxis\": {\"gridcolor\": \"white\", \"linecolor\": \"white\", \"ticks\": \"\"}, \"bgcolor\": \"#E5ECF6\", \"radialaxis\": {\"gridcolor\": \"white\", \"linecolor\": \"white\", \"ticks\": \"\"}}, \"scene\": {\"xaxis\": {\"backgroundcolor\": \"#E5ECF6\", \"gridcolor\": \"white\", \"gridwidth\": 2, \"linecolor\": \"white\", \"showbackground\": true, \"ticks\": \"\", \"zerolinecolor\": \"white\"}, \"yaxis\": {\"backgroundcolor\": \"#E5ECF6\", \"gridcolor\": \"white\", \"gridwidth\": 2, \"linecolor\": \"white\", \"showbackground\": true, \"ticks\": \"\", \"zerolinecolor\": \"white\"}, \"zaxis\": {\"backgroundcolor\": \"#E5ECF6\", \"gridcolor\": \"white\", \"gridwidth\": 2, \"linecolor\": \"white\", \"showbackground\": true, \"ticks\": \"\", \"zerolinecolor\": \"white\"}}, \"shapedefaults\": {\"line\": {\"color\": \"#2a3f5f\"}}, \"ternary\": {\"aaxis\": {\"gridcolor\": \"white\", \"linecolor\": \"white\", \"ticks\": \"\"}, \"baxis\": {\"gridcolor\": \"white\", \"linecolor\": \"white\", \"ticks\": \"\"}, \"bgcolor\": \"#E5ECF6\", \"caxis\": {\"gridcolor\": \"white\", \"linecolor\": \"white\", \"ticks\": \"\"}}, \"title\": {\"x\": 0.05}, \"xaxis\": {\"automargin\": true, \"gridcolor\": \"white\", \"linecolor\": \"white\", \"ticks\": \"\", \"title\": {\"standoff\": 15}, \"zerolinecolor\": \"white\", \"zerolinewidth\": 2}, \"yaxis\": {\"automargin\": true, \"gridcolor\": \"white\", \"linecolor\": \"white\", \"ticks\": \"\", \"title\": {\"standoff\": 15}, \"zerolinecolor\": \"white\", \"zerolinewidth\": 2}}}},\n",
       "                        {\"responsive\": true}\n",
       "                    ).then(function(){\n",
       "                            \n",
       "var gd = document.getElementById('066f958f-f7b0-4f6f-ae68-a653bff65cdf');\n",
       "var x = new MutationObserver(function (mutations, observer) {{\n",
       "        var display = window.getComputedStyle(gd).display;\n",
       "        if (!display || display === 'none') {{\n",
       "            console.log([gd, 'removed!']);\n",
       "            Plotly.purge(gd);\n",
       "            observer.disconnect();\n",
       "        }}\n",
       "}});\n",
       "\n",
       "// Listen for the removal of the full notebook cells\n",
       "var notebookContainer = gd.closest('#notebook-container');\n",
       "if (notebookContainer) {{\n",
       "    x.observe(notebookContainer, {childList: true});\n",
       "}}\n",
       "\n",
       "// Listen for the clearing of the current output cell\n",
       "var outputEl = gd.closest('.output');\n",
       "if (outputEl) {{\n",
       "    x.observe(outputEl, {childList: true});\n",
       "}}\n",
       "\n",
       "                        })\n",
       "                };\n",
       "                });\n",
       "            </script>\n",
       "        </div>"
      ]
     },
     "metadata": {
      "tags": []
     },
     "output_type": "display_data"
    }
   ],
   "source": [
    "import plotly.graph_objs as go\n",
    "\n",
    "labels = ['Positif','Negatif']\n",
    "values = [int(pos),int(neg)]\n",
    "\n",
    "trace = go.Pie(labels=labels, values=values)\n",
    "iplot([trace], filename='basic_pie_chart')"
   ]
  },
  {
   "cell_type": "markdown",
   "metadata": {
    "id": "U9NfM48mEXCU"
   },
   "source": [
    "Predict Data Uji"
   ]
  },
  {
   "cell_type": "code",
   "execution_count": null,
   "metadata": {
    "colab": {
     "base_uri": "https://localhost:8080/",
     "height": 406
    },
    "id": "5-IjT2YlE3V6",
    "outputId": "77a23acb-3edd-430f-ed1a-db66eda09391"
   },
   "outputs": [
    {
     "data": {
      "text/html": [
       "<div>\n",
       "<style scoped>\n",
       "    .dataframe tbody tr th:only-of-type {\n",
       "        vertical-align: middle;\n",
       "    }\n",
       "\n",
       "    .dataframe tbody tr th {\n",
       "        vertical-align: top;\n",
       "    }\n",
       "\n",
       "    .dataframe thead th {\n",
       "        text-align: right;\n",
       "    }\n",
       "</style>\n",
       "<table border=\"1\" class=\"dataframe\">\n",
       "  <thead>\n",
       "    <tr style=\"text-align: right;\">\n",
       "      <th></th>\n",
       "      <th>ID</th>\n",
       "      <th>tanggal</th>\n",
       "      <th>judul</th>\n",
       "      <th>narasi</th>\n",
       "      <th>nama file gambar</th>\n",
       "    </tr>\n",
       "  </thead>\n",
       "  <tbody>\n",
       "    <tr>\n",
       "      <th>0</th>\n",
       "      <td>238057</td>\n",
       "      <td>2020-07-13 00:00:00</td>\n",
       "      <td>Narasi Tito Karnavian Berideologi Komunis Kare...</td>\n",
       "      <td>TITO KARNIVAN ITU BERIDIOLOGI KOMUNIS DIA BISA...</td>\n",
       "      <td>238057.jpg</td>\n",
       "    </tr>\n",
       "    <tr>\n",
       "      <th>1</th>\n",
       "      <td>238158</td>\n",
       "      <td>2020-07-06 00:00:00</td>\n",
       "      <td>Anies: Seberat beratnya Pekerjaan Akan terasa ...</td>\n",
       "      <td>Seberat beratnya Pekerjaan Akan terasa ringan ...</td>\n",
       "      <td>238158.jpg</td>\n",
       "    </tr>\n",
       "    <tr>\n",
       "      <th>2</th>\n",
       "      <td>238865</td>\n",
       "      <td>2020-04-22 00:00:00</td>\n",
       "      <td>Hindu di india Melemparkan Patung Buatan Merek...</td>\n",
       "      <td>Hindu di india melemparkan patung buatan merek...</td>\n",
       "      <td>238865.jpg</td>\n",
       "    </tr>\n",
       "    <tr>\n",
       "      <th>3</th>\n",
       "      <td>248298</td>\n",
       "      <td>2019-10-22 00:00:00</td>\n",
       "      <td>RSCM Praktekkan Penyedotan Plug  Vena/Saluran ...</td>\n",
       "      <td>Mulai Hari ini di RSCM mulai diPraktekkan Peny...</td>\n",
       "      <td>248298.jpg</td>\n",
       "    </tr>\n",
       "    <tr>\n",
       "      <th>4</th>\n",
       "      <td>255176</td>\n",
       "      <td>2020-05-01 00:00:00</td>\n",
       "      <td>Permohonan Kelonggaran Angsuran ke OJK</td>\n",
       "      <td>Untuk sekedar info, Bagi anda yg punya ansuran...</td>\n",
       "      <td>255176.jpg</td>\n",
       "    </tr>\n",
       "    <tr>\n",
       "      <th>...</th>\n",
       "      <td>...</td>\n",
       "      <td>...</td>\n",
       "      <td>...</td>\n",
       "      <td>...</td>\n",
       "      <td>...</td>\n",
       "    </tr>\n",
       "    <tr>\n",
       "      <th>465</th>\n",
       "      <td>206021</td>\n",
       "      <td>2020-05-01 00:00:00</td>\n",
       "      <td>Dijemput oleh Tim Medis, Kakak Beradik Usia 8 ...</td>\n",
       "      <td>DiTangerang, dua bersaudara kakak beradik usia...</td>\n",
       "      <td>206021.jpg</td>\n",
       "    </tr>\n",
       "    <tr>\n",
       "      <th>466</th>\n",
       "      <td>219874</td>\n",
       "      <td>2017-10-02 00:00:00</td>\n",
       "      <td>: Pertanda Alam, Kera Putih Mulai Turun Dari G...</td>\n",
       "      <td>Pertanda Alam, Kera Putih Mulai Turun Dari Gun...</td>\n",
       "      <td>219874.jpg</td>\n",
       "    </tr>\n",
       "    <tr>\n",
       "      <th>467</th>\n",
       "      <td>222802</td>\n",
       "      <td>2020-03-22 00:00:00</td>\n",
       "      <td>Pasar Wameo dan Karya Nugraha di Tutup selama ...</td>\n",
       "      <td>Assalamu Alaikum …\\n \\n  Info dari pedagang pa...</td>\n",
       "      <td>222802.jpg</td>\n",
       "    </tr>\n",
       "    <tr>\n",
       "      <th>468</th>\n",
       "      <td>226020</td>\n",
       "      <td>2018-09-25 00:00:00</td>\n",
       "      <td>Klarifikasi KPK Terkait Foto Setya Novanto Tan...</td>\n",
       "      <td>Secara tidak sengaja sekitar pukul 06.00 WIB d...</td>\n",
       "      <td>226020.jpg</td>\n",
       "    </tr>\n",
       "    <tr>\n",
       "      <th>469</th>\n",
       "      <td>232887</td>\n",
       "      <td>2019-04-25 00:00:00</td>\n",
       "      <td>Erdogan Tidak Pernah Akui Kemenangan Jokowi</td>\n",
       "      <td>Artikel dalam laman daring aljazera.online ber...</td>\n",
       "      <td>232887.jpg</td>\n",
       "    </tr>\n",
       "  </tbody>\n",
       "</table>\n",
       "<p>470 rows × 5 columns</p>\n",
       "</div>"
      ],
      "text/plain": [
       "         ID  ... nama file gambar\n",
       "0    238057  ...       238057.jpg\n",
       "1    238158  ...       238158.jpg\n",
       "2    238865  ...       238865.jpg\n",
       "3    248298  ...       248298.jpg\n",
       "4    255176  ...       255176.jpg\n",
       "..      ...  ...              ...\n",
       "465  206021  ...       206021.jpg\n",
       "466  219874  ...       219874.jpg\n",
       "467  222802  ...       222802.jpg\n",
       "468  226020  ...       226020.jpg\n",
       "469  232887  ...       232887.jpg\n",
       "\n",
       "[470 rows x 5 columns]"
      ]
     },
     "execution_count": 83,
     "metadata": {
      "tags": []
     },
     "output_type": "execute_result"
    }
   ],
   "source": [
    "dfp= pd.read_excel('/content/drive/My Drive/Data Uji BDC (1).xlsx')\n",
    "dfp"
   ]
  },
  {
   "cell_type": "code",
   "execution_count": null,
   "metadata": {
    "id": "swU0QAk6FOFg"
   },
   "outputs": [],
   "source": [
    "columns = [ 'tanggal' ,'nama file gambar']\n",
    "dfp.drop(columns, inplace=True, axis=1)"
   ]
  },
  {
   "cell_type": "code",
   "execution_count": null,
   "metadata": {
    "colab": {
     "base_uri": "https://localhost:8080/",
     "height": 406
    },
    "id": "svqBYbHgKkDV",
    "outputId": "17feb79c-64b1-4aa3-c630-ef5b1a10132f"
   },
   "outputs": [
    {
     "data": {
      "text/html": [
       "<div>\n",
       "<style scoped>\n",
       "    .dataframe tbody tr th:only-of-type {\n",
       "        vertical-align: middle;\n",
       "    }\n",
       "\n",
       "    .dataframe tbody tr th {\n",
       "        vertical-align: top;\n",
       "    }\n",
       "\n",
       "    .dataframe thead th {\n",
       "        text-align: right;\n",
       "    }\n",
       "</style>\n",
       "<table border=\"1\" class=\"dataframe\">\n",
       "  <thead>\n",
       "    <tr style=\"text-align: right;\">\n",
       "      <th></th>\n",
       "      <th>ID</th>\n",
       "      <th>judul</th>\n",
       "      <th>narasi</th>\n",
       "    </tr>\n",
       "  </thead>\n",
       "  <tbody>\n",
       "    <tr>\n",
       "      <th>0</th>\n",
       "      <td>238057</td>\n",
       "      <td>Narasi Tito Karnavian Berideologi Komunis Kare...</td>\n",
       "      <td>TITO KARNIVAN ITU BERIDIOLOGI KOMUNIS DIA BISA...</td>\n",
       "    </tr>\n",
       "    <tr>\n",
       "      <th>1</th>\n",
       "      <td>238158</td>\n",
       "      <td>Anies: Seberat beratnya Pekerjaan Akan terasa ...</td>\n",
       "      <td>Seberat beratnya Pekerjaan Akan terasa ringan ...</td>\n",
       "    </tr>\n",
       "    <tr>\n",
       "      <th>2</th>\n",
       "      <td>238865</td>\n",
       "      <td>Hindu di india Melemparkan Patung Buatan Merek...</td>\n",
       "      <td>Hindu di india melemparkan patung buatan merek...</td>\n",
       "    </tr>\n",
       "    <tr>\n",
       "      <th>3</th>\n",
       "      <td>248298</td>\n",
       "      <td>RSCM Praktekkan Penyedotan Plug  Vena/Saluran ...</td>\n",
       "      <td>Mulai Hari ini di RSCM mulai diPraktekkan Peny...</td>\n",
       "    </tr>\n",
       "    <tr>\n",
       "      <th>4</th>\n",
       "      <td>255176</td>\n",
       "      <td>Permohonan Kelonggaran Angsuran ke OJK</td>\n",
       "      <td>Untuk sekedar info, Bagi anda yg punya ansuran...</td>\n",
       "    </tr>\n",
       "    <tr>\n",
       "      <th>...</th>\n",
       "      <td>...</td>\n",
       "      <td>...</td>\n",
       "      <td>...</td>\n",
       "    </tr>\n",
       "    <tr>\n",
       "      <th>465</th>\n",
       "      <td>206021</td>\n",
       "      <td>Dijemput oleh Tim Medis, Kakak Beradik Usia 8 ...</td>\n",
       "      <td>DiTangerang, dua bersaudara kakak beradik usia...</td>\n",
       "    </tr>\n",
       "    <tr>\n",
       "      <th>466</th>\n",
       "      <td>219874</td>\n",
       "      <td>: Pertanda Alam, Kera Putih Mulai Turun Dari G...</td>\n",
       "      <td>Pertanda Alam, Kera Putih Mulai Turun Dari Gun...</td>\n",
       "    </tr>\n",
       "    <tr>\n",
       "      <th>467</th>\n",
       "      <td>222802</td>\n",
       "      <td>Pasar Wameo dan Karya Nugraha di Tutup selama ...</td>\n",
       "      <td>Assalamu Alaikum …\\n \\n  Info dari pedagang pa...</td>\n",
       "    </tr>\n",
       "    <tr>\n",
       "      <th>468</th>\n",
       "      <td>226020</td>\n",
       "      <td>Klarifikasi KPK Terkait Foto Setya Novanto Tan...</td>\n",
       "      <td>Secara tidak sengaja sekitar pukul 06.00 WIB d...</td>\n",
       "    </tr>\n",
       "    <tr>\n",
       "      <th>469</th>\n",
       "      <td>232887</td>\n",
       "      <td>Erdogan Tidak Pernah Akui Kemenangan Jokowi</td>\n",
       "      <td>Artikel dalam laman daring aljazera.online ber...</td>\n",
       "    </tr>\n",
       "  </tbody>\n",
       "</table>\n",
       "<p>470 rows × 3 columns</p>\n",
       "</div>"
      ],
      "text/plain": [
       "         ID  ...                                             narasi\n",
       "0    238057  ...  TITO KARNIVAN ITU BERIDIOLOGI KOMUNIS DIA BISA...\n",
       "1    238158  ...  Seberat beratnya Pekerjaan Akan terasa ringan ...\n",
       "2    238865  ...  Hindu di india melemparkan patung buatan merek...\n",
       "3    248298  ...  Mulai Hari ini di RSCM mulai diPraktekkan Peny...\n",
       "4    255176  ...  Untuk sekedar info, Bagi anda yg punya ansuran...\n",
       "..      ...  ...                                                ...\n",
       "465  206021  ...  DiTangerang, dua bersaudara kakak beradik usia...\n",
       "466  219874  ...  Pertanda Alam, Kera Putih Mulai Turun Dari Gun...\n",
       "467  222802  ...  Assalamu Alaikum …\\n \\n  Info dari pedagang pa...\n",
       "468  226020  ...  Secara tidak sengaja sekitar pukul 06.00 WIB d...\n",
       "469  232887  ...  Artikel dalam laman daring aljazera.online ber...\n",
       "\n",
       "[470 rows x 3 columns]"
      ]
     },
     "execution_count": 85,
     "metadata": {
      "tags": []
     },
     "output_type": "execute_result"
    }
   ],
   "source": [
    "dfp"
   ]
  },
  {
   "cell_type": "code",
   "execution_count": null,
   "metadata": {
    "id": "uMheRdq7FgZc"
   },
   "outputs": [],
   "source": [
    "dfp['teks']=dfp['judul'].astype(str)+' '+dfp['narasi'].astype(str)\n",
    "col=['judul', 'narasi']\n",
    "dfp.drop(col, inplace=True, axis=1)"
   ]
  },
  {
   "cell_type": "markdown",
   "metadata": {
    "id": "0gG0fmRvFgK-"
   },
   "source": []
  },
  {
   "cell_type": "code",
   "execution_count": null,
   "metadata": {
    "colab": {
     "base_uri": "https://localhost:8080/",
     "height": 34
    },
    "id": "Vvvo5Am7EZqR",
    "outputId": "29191433-74ac-47cf-a752-8e439b4dde22"
   },
   "outputs": [
    {
     "data": {
      "text/plain": [
       "(470, 3)"
      ]
     },
     "execution_count": 88,
     "metadata": {
      "tags": []
     },
     "output_type": "execute_result"
    }
   ],
   "source": [
    "# run predictions on twitter data\n",
    "teksp_preds = model_NB.predict(dfp['teks'])\n",
    "\n",
    "# append predictions to dataframe\n",
    "dfp_teksp_preds = dfp.copy()\n",
    "dfp_teksp_preds['prediksi'] = teksp_preds\n",
    "dfp_teksp_preds.shape"
   ]
  },
  {
   "cell_type": "code",
   "execution_count": null,
   "metadata": {
    "id": "9bJtPJ6RynFT"
   },
   "outputs": [],
   "source": [
    "dfp2_teksp_preds = dfp_teksp_preds\n",
    "col=['teks']\n",
    "dfp2_teksp_preds.drop(col, inplace=True, axis=1)"
   ]
  },
  {
   "cell_type": "code",
   "execution_count": null,
   "metadata": {
    "id": "Vn6MbgFqHeFV"
   },
   "outputs": [],
   "source": [
    "dfp2_teksp_preds.to_csv('/content/drive/My Drive/predict data uji.csv', index=False)"
   ]
  },
  {
   "cell_type": "code",
   "execution_count": null,
   "metadata": {
    "colab": {
     "base_uri": "https://localhost:8080/",
     "height": 34
    },
    "id": "TejY8VKGrF6K",
    "outputId": "f4f9cf07-e044-4f6d-d351-11d69ea742ca"
   },
   "outputs": [
    {
     "name": "stdout",
     "output_type": "stream",
     "text": [
      "Model predictions: Positives - 29, Negatives - 441\n"
     ]
    }
   ],
   "source": [
    "posp = dfp_teksp_preds.predictions.value_counts()[0]\n",
    "negp = dfp_teksp_preds.predictions.value_counts()[1]\n",
    "\n",
    "print('Model predictions: Positives - {}, Negatives - {}'.format(posp,negp))"
   ]
  },
  {
   "cell_type": "code",
   "execution_count": null,
   "metadata": {
    "colab": {
     "base_uri": "https://localhost:8080/",
     "height": 542
    },
    "id": "3hYhrnqlrnEG",
    "outputId": "4aa83abb-e777-420f-e7d1-ed92e6456ce6"
   },
   "outputs": [
    {
     "data": {
      "application/vnd.plotly.v1+json": {
       "config": {
        "linkText": "Export to plot.ly",
        "plotlyServerURL": "https://plot.ly",
        "showLink": false
       },
       "data": [
        {
         "labels": [
          "Positif",
          "Negatif"
         ],
         "type": "pie",
         "values": [
          29,
          441
         ]
        }
       ],
       "layout": {
        "template": {
         "data": {
          "bar": [
           {
            "error_x": {
             "color": "#2a3f5f"
            },
            "error_y": {
             "color": "#2a3f5f"
            },
            "marker": {
             "line": {
              "color": "#E5ECF6",
              "width": 0.5
             }
            },
            "type": "bar"
           }
          ],
          "barpolar": [
           {
            "marker": {
             "line": {
              "color": "#E5ECF6",
              "width": 0.5
             }
            },
            "type": "barpolar"
           }
          ],
          "carpet": [
           {
            "aaxis": {
             "endlinecolor": "#2a3f5f",
             "gridcolor": "white",
             "linecolor": "white",
             "minorgridcolor": "white",
             "startlinecolor": "#2a3f5f"
            },
            "baxis": {
             "endlinecolor": "#2a3f5f",
             "gridcolor": "white",
             "linecolor": "white",
             "minorgridcolor": "white",
             "startlinecolor": "#2a3f5f"
            },
            "type": "carpet"
           }
          ],
          "choropleth": [
           {
            "colorbar": {
             "outlinewidth": 0,
             "ticks": ""
            },
            "type": "choropleth"
           }
          ],
          "contour": [
           {
            "colorbar": {
             "outlinewidth": 0,
             "ticks": ""
            },
            "colorscale": [
             [
              0,
              "#0d0887"
             ],
             [
              0.1111111111111111,
              "#46039f"
             ],
             [
              0.2222222222222222,
              "#7201a8"
             ],
             [
              0.3333333333333333,
              "#9c179e"
             ],
             [
              0.4444444444444444,
              "#bd3786"
             ],
             [
              0.5555555555555556,
              "#d8576b"
             ],
             [
              0.6666666666666666,
              "#ed7953"
             ],
             [
              0.7777777777777778,
              "#fb9f3a"
             ],
             [
              0.8888888888888888,
              "#fdca26"
             ],
             [
              1,
              "#f0f921"
             ]
            ],
            "type": "contour"
           }
          ],
          "contourcarpet": [
           {
            "colorbar": {
             "outlinewidth": 0,
             "ticks": ""
            },
            "type": "contourcarpet"
           }
          ],
          "heatmap": [
           {
            "colorbar": {
             "outlinewidth": 0,
             "ticks": ""
            },
            "colorscale": [
             [
              0,
              "#0d0887"
             ],
             [
              0.1111111111111111,
              "#46039f"
             ],
             [
              0.2222222222222222,
              "#7201a8"
             ],
             [
              0.3333333333333333,
              "#9c179e"
             ],
             [
              0.4444444444444444,
              "#bd3786"
             ],
             [
              0.5555555555555556,
              "#d8576b"
             ],
             [
              0.6666666666666666,
              "#ed7953"
             ],
             [
              0.7777777777777778,
              "#fb9f3a"
             ],
             [
              0.8888888888888888,
              "#fdca26"
             ],
             [
              1,
              "#f0f921"
             ]
            ],
            "type": "heatmap"
           }
          ],
          "heatmapgl": [
           {
            "colorbar": {
             "outlinewidth": 0,
             "ticks": ""
            },
            "colorscale": [
             [
              0,
              "#0d0887"
             ],
             [
              0.1111111111111111,
              "#46039f"
             ],
             [
              0.2222222222222222,
              "#7201a8"
             ],
             [
              0.3333333333333333,
              "#9c179e"
             ],
             [
              0.4444444444444444,
              "#bd3786"
             ],
             [
              0.5555555555555556,
              "#d8576b"
             ],
             [
              0.6666666666666666,
              "#ed7953"
             ],
             [
              0.7777777777777778,
              "#fb9f3a"
             ],
             [
              0.8888888888888888,
              "#fdca26"
             ],
             [
              1,
              "#f0f921"
             ]
            ],
            "type": "heatmapgl"
           }
          ],
          "histogram": [
           {
            "marker": {
             "colorbar": {
              "outlinewidth": 0,
              "ticks": ""
             }
            },
            "type": "histogram"
           }
          ],
          "histogram2d": [
           {
            "colorbar": {
             "outlinewidth": 0,
             "ticks": ""
            },
            "colorscale": [
             [
              0,
              "#0d0887"
             ],
             [
              0.1111111111111111,
              "#46039f"
             ],
             [
              0.2222222222222222,
              "#7201a8"
             ],
             [
              0.3333333333333333,
              "#9c179e"
             ],
             [
              0.4444444444444444,
              "#bd3786"
             ],
             [
              0.5555555555555556,
              "#d8576b"
             ],
             [
              0.6666666666666666,
              "#ed7953"
             ],
             [
              0.7777777777777778,
              "#fb9f3a"
             ],
             [
              0.8888888888888888,
              "#fdca26"
             ],
             [
              1,
              "#f0f921"
             ]
            ],
            "type": "histogram2d"
           }
          ],
          "histogram2dcontour": [
           {
            "colorbar": {
             "outlinewidth": 0,
             "ticks": ""
            },
            "colorscale": [
             [
              0,
              "#0d0887"
             ],
             [
              0.1111111111111111,
              "#46039f"
             ],
             [
              0.2222222222222222,
              "#7201a8"
             ],
             [
              0.3333333333333333,
              "#9c179e"
             ],
             [
              0.4444444444444444,
              "#bd3786"
             ],
             [
              0.5555555555555556,
              "#d8576b"
             ],
             [
              0.6666666666666666,
              "#ed7953"
             ],
             [
              0.7777777777777778,
              "#fb9f3a"
             ],
             [
              0.8888888888888888,
              "#fdca26"
             ],
             [
              1,
              "#f0f921"
             ]
            ],
            "type": "histogram2dcontour"
           }
          ],
          "mesh3d": [
           {
            "colorbar": {
             "outlinewidth": 0,
             "ticks": ""
            },
            "type": "mesh3d"
           }
          ],
          "parcoords": [
           {
            "line": {
             "colorbar": {
              "outlinewidth": 0,
              "ticks": ""
             }
            },
            "type": "parcoords"
           }
          ],
          "pie": [
           {
            "automargin": true,
            "type": "pie"
           }
          ],
          "scatter": [
           {
            "marker": {
             "colorbar": {
              "outlinewidth": 0,
              "ticks": ""
             }
            },
            "type": "scatter"
           }
          ],
          "scatter3d": [
           {
            "line": {
             "colorbar": {
              "outlinewidth": 0,
              "ticks": ""
             }
            },
            "marker": {
             "colorbar": {
              "outlinewidth": 0,
              "ticks": ""
             }
            },
            "type": "scatter3d"
           }
          ],
          "scattercarpet": [
           {
            "marker": {
             "colorbar": {
              "outlinewidth": 0,
              "ticks": ""
             }
            },
            "type": "scattercarpet"
           }
          ],
          "scattergeo": [
           {
            "marker": {
             "colorbar": {
              "outlinewidth": 0,
              "ticks": ""
             }
            },
            "type": "scattergeo"
           }
          ],
          "scattergl": [
           {
            "marker": {
             "colorbar": {
              "outlinewidth": 0,
              "ticks": ""
             }
            },
            "type": "scattergl"
           }
          ],
          "scattermapbox": [
           {
            "marker": {
             "colorbar": {
              "outlinewidth": 0,
              "ticks": ""
             }
            },
            "type": "scattermapbox"
           }
          ],
          "scatterpolar": [
           {
            "marker": {
             "colorbar": {
              "outlinewidth": 0,
              "ticks": ""
             }
            },
            "type": "scatterpolar"
           }
          ],
          "scatterpolargl": [
           {
            "marker": {
             "colorbar": {
              "outlinewidth": 0,
              "ticks": ""
             }
            },
            "type": "scatterpolargl"
           }
          ],
          "scatterternary": [
           {
            "marker": {
             "colorbar": {
              "outlinewidth": 0,
              "ticks": ""
             }
            },
            "type": "scatterternary"
           }
          ],
          "surface": [
           {
            "colorbar": {
             "outlinewidth": 0,
             "ticks": ""
            },
            "colorscale": [
             [
              0,
              "#0d0887"
             ],
             [
              0.1111111111111111,
              "#46039f"
             ],
             [
              0.2222222222222222,
              "#7201a8"
             ],
             [
              0.3333333333333333,
              "#9c179e"
             ],
             [
              0.4444444444444444,
              "#bd3786"
             ],
             [
              0.5555555555555556,
              "#d8576b"
             ],
             [
              0.6666666666666666,
              "#ed7953"
             ],
             [
              0.7777777777777778,
              "#fb9f3a"
             ],
             [
              0.8888888888888888,
              "#fdca26"
             ],
             [
              1,
              "#f0f921"
             ]
            ],
            "type": "surface"
           }
          ],
          "table": [
           {
            "cells": {
             "fill": {
              "color": "#EBF0F8"
             },
             "line": {
              "color": "white"
             }
            },
            "header": {
             "fill": {
              "color": "#C8D4E3"
             },
             "line": {
              "color": "white"
             }
            },
            "type": "table"
           }
          ]
         },
         "layout": {
          "annotationdefaults": {
           "arrowcolor": "#2a3f5f",
           "arrowhead": 0,
           "arrowwidth": 1
          },
          "coloraxis": {
           "colorbar": {
            "outlinewidth": 0,
            "ticks": ""
           }
          },
          "colorscale": {
           "diverging": [
            [
             0,
             "#8e0152"
            ],
            [
             0.1,
             "#c51b7d"
            ],
            [
             0.2,
             "#de77ae"
            ],
            [
             0.3,
             "#f1b6da"
            ],
            [
             0.4,
             "#fde0ef"
            ],
            [
             0.5,
             "#f7f7f7"
            ],
            [
             0.6,
             "#e6f5d0"
            ],
            [
             0.7,
             "#b8e186"
            ],
            [
             0.8,
             "#7fbc41"
            ],
            [
             0.9,
             "#4d9221"
            ],
            [
             1,
             "#276419"
            ]
           ],
           "sequential": [
            [
             0,
             "#0d0887"
            ],
            [
             0.1111111111111111,
             "#46039f"
            ],
            [
             0.2222222222222222,
             "#7201a8"
            ],
            [
             0.3333333333333333,
             "#9c179e"
            ],
            [
             0.4444444444444444,
             "#bd3786"
            ],
            [
             0.5555555555555556,
             "#d8576b"
            ],
            [
             0.6666666666666666,
             "#ed7953"
            ],
            [
             0.7777777777777778,
             "#fb9f3a"
            ],
            [
             0.8888888888888888,
             "#fdca26"
            ],
            [
             1,
             "#f0f921"
            ]
           ],
           "sequentialminus": [
            [
             0,
             "#0d0887"
            ],
            [
             0.1111111111111111,
             "#46039f"
            ],
            [
             0.2222222222222222,
             "#7201a8"
            ],
            [
             0.3333333333333333,
             "#9c179e"
            ],
            [
             0.4444444444444444,
             "#bd3786"
            ],
            [
             0.5555555555555556,
             "#d8576b"
            ],
            [
             0.6666666666666666,
             "#ed7953"
            ],
            [
             0.7777777777777778,
             "#fb9f3a"
            ],
            [
             0.8888888888888888,
             "#fdca26"
            ],
            [
             1,
             "#f0f921"
            ]
           ]
          },
          "colorway": [
           "#636efa",
           "#EF553B",
           "#00cc96",
           "#ab63fa",
           "#FFA15A",
           "#19d3f3",
           "#FF6692",
           "#B6E880",
           "#FF97FF",
           "#FECB52"
          ],
          "font": {
           "color": "#2a3f5f"
          },
          "geo": {
           "bgcolor": "white",
           "lakecolor": "white",
           "landcolor": "#E5ECF6",
           "showlakes": true,
           "showland": true,
           "subunitcolor": "white"
          },
          "hoverlabel": {
           "align": "left"
          },
          "hovermode": "closest",
          "mapbox": {
           "style": "light"
          },
          "paper_bgcolor": "white",
          "plot_bgcolor": "#E5ECF6",
          "polar": {
           "angularaxis": {
            "gridcolor": "white",
            "linecolor": "white",
            "ticks": ""
           },
           "bgcolor": "#E5ECF6",
           "radialaxis": {
            "gridcolor": "white",
            "linecolor": "white",
            "ticks": ""
           }
          },
          "scene": {
           "xaxis": {
            "backgroundcolor": "#E5ECF6",
            "gridcolor": "white",
            "gridwidth": 2,
            "linecolor": "white",
            "showbackground": true,
            "ticks": "",
            "zerolinecolor": "white"
           },
           "yaxis": {
            "backgroundcolor": "#E5ECF6",
            "gridcolor": "white",
            "gridwidth": 2,
            "linecolor": "white",
            "showbackground": true,
            "ticks": "",
            "zerolinecolor": "white"
           },
           "zaxis": {
            "backgroundcolor": "#E5ECF6",
            "gridcolor": "white",
            "gridwidth": 2,
            "linecolor": "white",
            "showbackground": true,
            "ticks": "",
            "zerolinecolor": "white"
           }
          },
          "shapedefaults": {
           "line": {
            "color": "#2a3f5f"
           }
          },
          "ternary": {
           "aaxis": {
            "gridcolor": "white",
            "linecolor": "white",
            "ticks": ""
           },
           "baxis": {
            "gridcolor": "white",
            "linecolor": "white",
            "ticks": ""
           },
           "bgcolor": "#E5ECF6",
           "caxis": {
            "gridcolor": "white",
            "linecolor": "white",
            "ticks": ""
           }
          },
          "title": {
           "x": 0.05
          },
          "xaxis": {
           "automargin": true,
           "gridcolor": "white",
           "linecolor": "white",
           "ticks": "",
           "title": {
            "standoff": 15
           },
           "zerolinecolor": "white",
           "zerolinewidth": 2
          },
          "yaxis": {
           "automargin": true,
           "gridcolor": "white",
           "linecolor": "white",
           "ticks": "",
           "title": {
            "standoff": 15
           },
           "zerolinecolor": "white",
           "zerolinewidth": 2
          }
         }
        }
       }
      },
      "text/html": [
       "<div>\n",
       "        \n",
       "        \n",
       "            <div id=\"e969193e-b290-4402-8c6f-9941b89882a6\" class=\"plotly-graph-div\" style=\"height:525px; width:100%;\"></div>\n",
       "            <script type=\"text/javascript\">\n",
       "                require([\"plotly\"], function(Plotly) {\n",
       "                    window.PLOTLYENV=window.PLOTLYENV || {};\n",
       "                    \n",
       "                if (document.getElementById(\"e969193e-b290-4402-8c6f-9941b89882a6\")) {\n",
       "                    Plotly.newPlot(\n",
       "                        'e969193e-b290-4402-8c6f-9941b89882a6',\n",
       "                        [{\"labels\": [\"Positif\", \"Negatif\"], \"type\": \"pie\", \"values\": [29, 441]}],\n",
       "                        {\"template\": {\"data\": {\"bar\": [{\"error_x\": {\"color\": \"#2a3f5f\"}, \"error_y\": {\"color\": \"#2a3f5f\"}, \"marker\": {\"line\": {\"color\": \"#E5ECF6\", \"width\": 0.5}}, \"type\": \"bar\"}], \"barpolar\": [{\"marker\": {\"line\": {\"color\": \"#E5ECF6\", \"width\": 0.5}}, \"type\": \"barpolar\"}], \"carpet\": [{\"aaxis\": {\"endlinecolor\": \"#2a3f5f\", \"gridcolor\": \"white\", \"linecolor\": \"white\", \"minorgridcolor\": \"white\", \"startlinecolor\": \"#2a3f5f\"}, \"baxis\": {\"endlinecolor\": \"#2a3f5f\", \"gridcolor\": \"white\", \"linecolor\": \"white\", \"minorgridcolor\": \"white\", \"startlinecolor\": \"#2a3f5f\"}, \"type\": \"carpet\"}], \"choropleth\": [{\"colorbar\": {\"outlinewidth\": 0, \"ticks\": \"\"}, \"type\": \"choropleth\"}], \"contour\": [{\"colorbar\": {\"outlinewidth\": 0, \"ticks\": \"\"}, \"colorscale\": [[0.0, \"#0d0887\"], [0.1111111111111111, \"#46039f\"], [0.2222222222222222, \"#7201a8\"], [0.3333333333333333, \"#9c179e\"], [0.4444444444444444, \"#bd3786\"], [0.5555555555555556, \"#d8576b\"], [0.6666666666666666, \"#ed7953\"], [0.7777777777777778, \"#fb9f3a\"], [0.8888888888888888, \"#fdca26\"], [1.0, \"#f0f921\"]], \"type\": \"contour\"}], \"contourcarpet\": [{\"colorbar\": {\"outlinewidth\": 0, \"ticks\": \"\"}, \"type\": \"contourcarpet\"}], \"heatmap\": [{\"colorbar\": {\"outlinewidth\": 0, \"ticks\": \"\"}, \"colorscale\": [[0.0, \"#0d0887\"], [0.1111111111111111, \"#46039f\"], [0.2222222222222222, \"#7201a8\"], [0.3333333333333333, \"#9c179e\"], [0.4444444444444444, \"#bd3786\"], [0.5555555555555556, \"#d8576b\"], [0.6666666666666666, \"#ed7953\"], [0.7777777777777778, \"#fb9f3a\"], [0.8888888888888888, \"#fdca26\"], [1.0, \"#f0f921\"]], \"type\": \"heatmap\"}], \"heatmapgl\": [{\"colorbar\": {\"outlinewidth\": 0, \"ticks\": \"\"}, \"colorscale\": [[0.0, \"#0d0887\"], [0.1111111111111111, \"#46039f\"], [0.2222222222222222, \"#7201a8\"], [0.3333333333333333, \"#9c179e\"], [0.4444444444444444, \"#bd3786\"], [0.5555555555555556, \"#d8576b\"], [0.6666666666666666, \"#ed7953\"], [0.7777777777777778, \"#fb9f3a\"], [0.8888888888888888, \"#fdca26\"], [1.0, \"#f0f921\"]], \"type\": \"heatmapgl\"}], \"histogram\": [{\"marker\": {\"colorbar\": {\"outlinewidth\": 0, \"ticks\": \"\"}}, \"type\": \"histogram\"}], \"histogram2d\": [{\"colorbar\": {\"outlinewidth\": 0, \"ticks\": \"\"}, \"colorscale\": [[0.0, \"#0d0887\"], [0.1111111111111111, \"#46039f\"], [0.2222222222222222, \"#7201a8\"], [0.3333333333333333, \"#9c179e\"], [0.4444444444444444, \"#bd3786\"], [0.5555555555555556, \"#d8576b\"], [0.6666666666666666, \"#ed7953\"], [0.7777777777777778, \"#fb9f3a\"], [0.8888888888888888, \"#fdca26\"], [1.0, \"#f0f921\"]], \"type\": \"histogram2d\"}], \"histogram2dcontour\": [{\"colorbar\": {\"outlinewidth\": 0, \"ticks\": \"\"}, \"colorscale\": [[0.0, \"#0d0887\"], [0.1111111111111111, \"#46039f\"], [0.2222222222222222, \"#7201a8\"], [0.3333333333333333, \"#9c179e\"], [0.4444444444444444, \"#bd3786\"], [0.5555555555555556, \"#d8576b\"], [0.6666666666666666, \"#ed7953\"], [0.7777777777777778, \"#fb9f3a\"], [0.8888888888888888, \"#fdca26\"], [1.0, \"#f0f921\"]], \"type\": \"histogram2dcontour\"}], \"mesh3d\": [{\"colorbar\": {\"outlinewidth\": 0, \"ticks\": \"\"}, \"type\": \"mesh3d\"}], \"parcoords\": [{\"line\": {\"colorbar\": {\"outlinewidth\": 0, \"ticks\": \"\"}}, \"type\": \"parcoords\"}], \"pie\": [{\"automargin\": true, \"type\": \"pie\"}], \"scatter\": [{\"marker\": {\"colorbar\": {\"outlinewidth\": 0, \"ticks\": \"\"}}, \"type\": \"scatter\"}], \"scatter3d\": [{\"line\": {\"colorbar\": {\"outlinewidth\": 0, \"ticks\": \"\"}}, \"marker\": {\"colorbar\": {\"outlinewidth\": 0, \"ticks\": \"\"}}, \"type\": \"scatter3d\"}], \"scattercarpet\": [{\"marker\": {\"colorbar\": {\"outlinewidth\": 0, \"ticks\": \"\"}}, \"type\": \"scattercarpet\"}], \"scattergeo\": [{\"marker\": {\"colorbar\": {\"outlinewidth\": 0, \"ticks\": \"\"}}, \"type\": \"scattergeo\"}], \"scattergl\": [{\"marker\": {\"colorbar\": {\"outlinewidth\": 0, \"ticks\": \"\"}}, \"type\": \"scattergl\"}], \"scattermapbox\": [{\"marker\": {\"colorbar\": {\"outlinewidth\": 0, \"ticks\": \"\"}}, \"type\": \"scattermapbox\"}], \"scatterpolar\": [{\"marker\": {\"colorbar\": {\"outlinewidth\": 0, \"ticks\": \"\"}}, \"type\": \"scatterpolar\"}], \"scatterpolargl\": [{\"marker\": {\"colorbar\": {\"outlinewidth\": 0, \"ticks\": \"\"}}, \"type\": \"scatterpolargl\"}], \"scatterternary\": [{\"marker\": {\"colorbar\": {\"outlinewidth\": 0, \"ticks\": \"\"}}, \"type\": \"scatterternary\"}], \"surface\": [{\"colorbar\": {\"outlinewidth\": 0, \"ticks\": \"\"}, \"colorscale\": [[0.0, \"#0d0887\"], [0.1111111111111111, \"#46039f\"], [0.2222222222222222, \"#7201a8\"], [0.3333333333333333, \"#9c179e\"], [0.4444444444444444, \"#bd3786\"], [0.5555555555555556, \"#d8576b\"], [0.6666666666666666, \"#ed7953\"], [0.7777777777777778, \"#fb9f3a\"], [0.8888888888888888, \"#fdca26\"], [1.0, \"#f0f921\"]], \"type\": \"surface\"}], \"table\": [{\"cells\": {\"fill\": {\"color\": \"#EBF0F8\"}, \"line\": {\"color\": \"white\"}}, \"header\": {\"fill\": {\"color\": \"#C8D4E3\"}, \"line\": {\"color\": \"white\"}}, \"type\": \"table\"}]}, \"layout\": {\"annotationdefaults\": {\"arrowcolor\": \"#2a3f5f\", \"arrowhead\": 0, \"arrowwidth\": 1}, \"coloraxis\": {\"colorbar\": {\"outlinewidth\": 0, \"ticks\": \"\"}}, \"colorscale\": {\"diverging\": [[0, \"#8e0152\"], [0.1, \"#c51b7d\"], [0.2, \"#de77ae\"], [0.3, \"#f1b6da\"], [0.4, \"#fde0ef\"], [0.5, \"#f7f7f7\"], [0.6, \"#e6f5d0\"], [0.7, \"#b8e186\"], [0.8, \"#7fbc41\"], [0.9, \"#4d9221\"], [1, \"#276419\"]], \"sequential\": [[0.0, \"#0d0887\"], [0.1111111111111111, \"#46039f\"], [0.2222222222222222, \"#7201a8\"], [0.3333333333333333, \"#9c179e\"], [0.4444444444444444, \"#bd3786\"], [0.5555555555555556, \"#d8576b\"], [0.6666666666666666, \"#ed7953\"], [0.7777777777777778, \"#fb9f3a\"], [0.8888888888888888, \"#fdca26\"], [1.0, \"#f0f921\"]], \"sequentialminus\": [[0.0, \"#0d0887\"], [0.1111111111111111, \"#46039f\"], [0.2222222222222222, \"#7201a8\"], [0.3333333333333333, \"#9c179e\"], [0.4444444444444444, \"#bd3786\"], [0.5555555555555556, \"#d8576b\"], [0.6666666666666666, \"#ed7953\"], [0.7777777777777778, \"#fb9f3a\"], [0.8888888888888888, \"#fdca26\"], [1.0, \"#f0f921\"]]}, \"colorway\": [\"#636efa\", \"#EF553B\", \"#00cc96\", \"#ab63fa\", \"#FFA15A\", \"#19d3f3\", \"#FF6692\", \"#B6E880\", \"#FF97FF\", \"#FECB52\"], \"font\": {\"color\": \"#2a3f5f\"}, \"geo\": {\"bgcolor\": \"white\", \"lakecolor\": \"white\", \"landcolor\": \"#E5ECF6\", \"showlakes\": true, \"showland\": true, \"subunitcolor\": \"white\"}, \"hoverlabel\": {\"align\": \"left\"}, \"hovermode\": \"closest\", \"mapbox\": {\"style\": \"light\"}, \"paper_bgcolor\": \"white\", \"plot_bgcolor\": \"#E5ECF6\", \"polar\": {\"angularaxis\": {\"gridcolor\": \"white\", \"linecolor\": \"white\", \"ticks\": \"\"}, \"bgcolor\": \"#E5ECF6\", \"radialaxis\": {\"gridcolor\": \"white\", \"linecolor\": \"white\", \"ticks\": \"\"}}, \"scene\": {\"xaxis\": {\"backgroundcolor\": \"#E5ECF6\", \"gridcolor\": \"white\", \"gridwidth\": 2, \"linecolor\": \"white\", \"showbackground\": true, \"ticks\": \"\", \"zerolinecolor\": \"white\"}, \"yaxis\": {\"backgroundcolor\": \"#E5ECF6\", \"gridcolor\": \"white\", \"gridwidth\": 2, \"linecolor\": \"white\", \"showbackground\": true, \"ticks\": \"\", \"zerolinecolor\": \"white\"}, \"zaxis\": {\"backgroundcolor\": \"#E5ECF6\", \"gridcolor\": \"white\", \"gridwidth\": 2, \"linecolor\": \"white\", \"showbackground\": true, \"ticks\": \"\", \"zerolinecolor\": \"white\"}}, \"shapedefaults\": {\"line\": {\"color\": \"#2a3f5f\"}}, \"ternary\": {\"aaxis\": {\"gridcolor\": \"white\", \"linecolor\": \"white\", \"ticks\": \"\"}, \"baxis\": {\"gridcolor\": \"white\", \"linecolor\": \"white\", \"ticks\": \"\"}, \"bgcolor\": \"#E5ECF6\", \"caxis\": {\"gridcolor\": \"white\", \"linecolor\": \"white\", \"ticks\": \"\"}}, \"title\": {\"x\": 0.05}, \"xaxis\": {\"automargin\": true, \"gridcolor\": \"white\", \"linecolor\": \"white\", \"ticks\": \"\", \"title\": {\"standoff\": 15}, \"zerolinecolor\": \"white\", \"zerolinewidth\": 2}, \"yaxis\": {\"automargin\": true, \"gridcolor\": \"white\", \"linecolor\": \"white\", \"ticks\": \"\", \"title\": {\"standoff\": 15}, \"zerolinecolor\": \"white\", \"zerolinewidth\": 2}}}},\n",
       "                        {\"responsive\": true}\n",
       "                    ).then(function(){\n",
       "                            \n",
       "var gd = document.getElementById('e969193e-b290-4402-8c6f-9941b89882a6');\n",
       "var x = new MutationObserver(function (mutations, observer) {{\n",
       "        var display = window.getComputedStyle(gd).display;\n",
       "        if (!display || display === 'none') {{\n",
       "            console.log([gd, 'removed!']);\n",
       "            Plotly.purge(gd);\n",
       "            observer.disconnect();\n",
       "        }}\n",
       "}});\n",
       "\n",
       "// Listen for the removal of the full notebook cells\n",
       "var notebookContainer = gd.closest('#notebook-container');\n",
       "if (notebookContainer) {{\n",
       "    x.observe(notebookContainer, {childList: true});\n",
       "}}\n",
       "\n",
       "// Listen for the clearing of the current output cell\n",
       "var outputEl = gd.closest('.output');\n",
       "if (outputEl) {{\n",
       "    x.observe(outputEl, {childList: true});\n",
       "}}\n",
       "\n",
       "                        })\n",
       "                };\n",
       "                });\n",
       "            </script>\n",
       "        </div>"
      ]
     },
     "metadata": {
      "tags": []
     },
     "output_type": "display_data"
    }
   ],
   "source": [
    "import plotly.graph_objs as go\n",
    "\n",
    "labels = ['Positif','Negatif']\n",
    "values = [int(posp),int(negp)]\n",
    "\n",
    "trace = go.Pie(labels=labels, values=values)\n",
    "iplot([trace], filename='basic_pie_chart')"
   ]
  },
  {
   "cell_type": "code",
   "execution_count": null,
   "metadata": {
    "id": "P-xeuMZ7n5ky"
   },
   "outputs": [],
   "source": []
  }
 ],
 "metadata": {
  "colab": {
   "collapsed_sections": [],
   "name": "NB Hyper BDC Train.ipynb",
   "provenance": []
  },
  "kernelspec": {
   "display_name": "Python 3",
   "language": "python",
   "name": "python3"
  },
  "language_info": {
   "codemirror_mode": {
    "name": "ipython",
    "version": 3
   },
   "file_extension": ".py",
   "mimetype": "text/x-python",
   "name": "python",
   "nbconvert_exporter": "python",
   "pygments_lexer": "ipython3",
   "version": "3.7.6"
  }
 },
 "nbformat": 4,
 "nbformat_minor": 1
}
